{
 "cells": [
  {
   "cell_type": "markdown",
   "id": "211bff93",
   "metadata": {},
   "source": [
    "##### Description:\n",
    "Given a grid, how many paths are there from (0,0) to (n,m)?\n",
    "<br>You can only move from (x,y) to (x,y+1) or (x+1,y).\n",
    "<br>For 60% data, 1<=n, m<=10\n",
    "<br>For 100% data, 1<=n,m<=30\n",
    "\n",
    "<b>e.g.<b> n=2,m=2\n",
    "<br>\n",
    "ans is 6\n",
    "<br>\n",
    "<br>(0,0)->(0,1)->(0,2)->(1,2)->(2,2)\n",
    "<br>(0,0)->(0,1)->(1,1)->(1,2)->(2,2)\n",
    "<br>(0,0)->(0,1)->(1,1)->(2,1)->(2,2)\n",
    "<br>(0,0)->(1,0)->(1,1)->(1,2)->(2,2)\n",
    "<br>(0,0)->(1,0)->(1,1)->(2,1)->(2,2)\n",
    "<br>(0,0)->(1,0)->(2,0)->(2,1)->(2,2)"
   ]
  },
  {
   "cell_type": "code",
   "execution_count": 10,
   "id": "050fd3ea",
   "metadata": {},
   "outputs": [],
   "source": [
    "def countPaths(m,n):\n",
    "    grid = [[0 for _ in range(m)] for _ in range(n)]\n",
    "#     count = [[0 for x in range (m+1)] for y in range(n+1)]\n",
    "#     print(count)\n",
    "    for i in range(m):\n",
    "        grid[m-1][i] = 1\n",
    "    for j in range(n):\n",
    "        grid[j][n-1] = 1\n",
    "    for i in range(m-2,-1,-1):\n",
    "        for j in range(n-2,-1,-1):\n",
    "            grid[i][j] = grid[i][j+1] + grid[i+1][j]\n",
    "    return grid[0][0]"
   ]
  },
  {
   "cell_type": "code",
   "execution_count": 12,
   "id": "62e5de77",
   "metadata": {},
   "outputs": [
    {
     "data": {
      "text/plain": [
       "20"
      ]
     },
     "execution_count": 12,
     "metadata": {},
     "output_type": "execute_result"
    }
   ],
   "source": [
    "countPaths(4,4)"
   ]
  },
  {
   "cell_type": "code",
   "execution_count": null,
   "id": "0629adaa",
   "metadata": {},
   "outputs": [],
   "source": []
  }
 ],
 "metadata": {
  "kernelspec": {
   "display_name": "Python 3",
   "language": "python",
   "name": "python3"
  },
  "language_info": {
   "codemirror_mode": {
    "name": "ipython",
    "version": 3
   },
   "file_extension": ".py",
   "mimetype": "text/x-python",
   "name": "python",
   "nbconvert_exporter": "python",
   "pygments_lexer": "ipython3",
   "version": "3.8.8"
  }
 },
 "nbformat": 4,
 "nbformat_minor": 5
}
