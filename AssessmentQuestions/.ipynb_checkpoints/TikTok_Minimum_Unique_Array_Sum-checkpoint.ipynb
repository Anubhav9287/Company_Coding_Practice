{
 "cells": [
  {
   "cell_type": "markdown",
   "id": "7fa7ea55",
   "metadata": {},
   "source": [
    "Given an array, increment any duplicate elemnets until all elements are unique. The sum of the elements must be the minimum possible.\n",
    "###### Example:\n",
    "arr = [3,2,1,2,7]\n",
    "<br> The \"2\" in index 3 is duplicated and we need to increase to \"4\" to avoid the duplication being \"3\". The minimum arr(unique) = [3,2,1,4,7] and its element sum to the minimal value 3+2+1+4+7 = 17"
   ]
  },
  {
   "cell_type": "code",
   "execution_count": 33,
   "id": "1a64bb8a",
   "metadata": {},
   "outputs": [],
   "source": [
    "arr = [3,2,1,2,2]\n",
    "def minimum_Unique_array_Sum(arr):\n",
    "    arr.sort()\n",
    "    x = arr[0]\n",
    "    y = arr[0]\n",
    "    for i in range(1,len(arr)):\n",
    "        if arr[i] <= y:\n",
    "            y += 1\n",
    "            x = x + y\n",
    "        else:\n",
    "            x = x + arr[i]\n",
    "            y = arr[i]\n",
    "    return x"
   ]
  },
  {
   "cell_type": "code",
   "execution_count": 34,
   "id": "b2afe624",
   "metadata": {},
   "outputs": [
    {
     "data": {
      "text/plain": [
       "15"
      ]
     },
     "execution_count": 34,
     "metadata": {},
     "output_type": "execute_result"
    }
   ],
   "source": [
    "minimum_Unique_array_Sum(arr)"
   ]
  },
  {
   "cell_type": "code",
   "execution_count": 41,
   "id": "00f6b1eb",
   "metadata": {},
   "outputs": [],
   "source": [
    "arr = [3,2,1,2,2]\n",
    "\n",
    "def minimum_Unique_array_Sum2(arr):\n",
    "    arr.sort()\n",
    "    result = 0\n",
    "    prev = arr[0]\n",
    "    for i in range(1,len(arr)):\n",
    "        temp = arr[i-1]\n",
    "        if arr[i] == temp:\n",
    "            while temp in arr:\n",
    "                temp += 1\n",
    "            arr[i-1] = temp\n",
    "    print(sum(arr))\n",
    "            "
   ]
  },
  {
   "cell_type": "code",
   "execution_count": 42,
   "id": "8e85bf23",
   "metadata": {},
   "outputs": [
    {
     "name": "stdout",
     "output_type": "stream",
     "text": [
      "15\n"
     ]
    }
   ],
   "source": [
    "minimum_Unique_array_Sum2(arr)"
   ]
  },
  {
   "cell_type": "code",
   "execution_count": null,
   "id": "9221d751",
   "metadata": {},
   "outputs": [],
   "source": []
  }
 ],
 "metadata": {
  "kernelspec": {
   "display_name": "Python 3",
   "language": "python",
   "name": "python3"
  },
  "language_info": {
   "codemirror_mode": {
    "name": "ipython",
    "version": 3
   },
   "file_extension": ".py",
   "mimetype": "text/x-python",
   "name": "python",
   "nbconvert_exporter": "python",
   "pygments_lexer": "ipython3",
   "version": "3.8.8"
  }
 },
 "nbformat": 4,
 "nbformat_minor": 5
}
