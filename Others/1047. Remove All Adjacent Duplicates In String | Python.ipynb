{
 "cells": [
  {
   "cell_type": "code",
   "execution_count": 1,
   "id": "d09e571d",
   "metadata": {},
   "outputs": [],
   "source": [
    "s = \"abbaca\""
   ]
  },
  {
   "cell_type": "code",
   "execution_count": 6,
   "id": "9f5465e0",
   "metadata": {},
   "outputs": [],
   "source": [
    "def removeDuplicates(s):\n",
    "    stack = []\n",
    "    for i in s:\n",
    "        if len(stack) < 1:\n",
    "            stack.append(i)\n",
    "        else:\n",
    "            if stack[-1] == i:\n",
    "                stack.pop()\n",
    "            else:\n",
    "                stack.append(i)\n",
    "    print(''.join(stack))"
   ]
  },
  {
   "cell_type": "code",
   "execution_count": 7,
   "id": "57ebecd5",
   "metadata": {},
   "outputs": [
    {
     "name": "stdout",
     "output_type": "stream",
     "text": [
      "ca\n"
     ]
    }
   ],
   "source": [
    "removeDuplicates(s)"
   ]
  },
  {
   "cell_type": "code",
   "execution_count": null,
   "id": "12a96df3",
   "metadata": {},
   "outputs": [],
   "source": []
  }
 ],
 "metadata": {
  "kernelspec": {
   "display_name": "Python 3",
   "language": "python",
   "name": "python3"
  },
  "language_info": {
   "codemirror_mode": {
    "name": "ipython",
    "version": 3
   },
   "file_extension": ".py",
   "mimetype": "text/x-python",
   "name": "python",
   "nbconvert_exporter": "python",
   "pygments_lexer": "ipython3",
   "version": "3.8.8"
  }
 },
 "nbformat": 4,
 "nbformat_minor": 5
}
