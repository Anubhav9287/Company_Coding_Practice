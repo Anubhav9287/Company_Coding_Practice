{
 "cells": [
  {
   "cell_type": "markdown",
   "id": "0d8eb28a",
   "metadata": {},
   "source": [
    "You are given an array of points in the X-Y plane points where points[i] = [xi, yi].\n",
    "<br>\n",
    "Return the minimum area of a rectangle formed from these points, with sides parallel to the X and Y axes. If there is not any such rectangle, return 0.\n",
    "<br>\n"
   ]
  },
  {
   "cell_type": "code",
   "execution_count": 8,
   "id": "c3415f03",
   "metadata": {},
   "outputs": [],
   "source": [
    "def minAreaRect(points):\n",
    "    visited = set()\n",
    "    area = float('inf')\n",
    "    \n",
    "    for x1,y1 in points:\n",
    "        for x2,y2 in visited:\n",
    "            if (x1,y2) in visited and (x2,y1) in visited:\n",
    "                temp_area = abs(x2-x1) * abs(y2-y1)\n",
    "                area = min(area,temp_area)\n",
    "        visited.add((x1,y1))\n",
    "    return area if area!= float('inf') else 0"
   ]
  },
  {
   "cell_type": "code",
   "execution_count": 9,
   "id": "9bf49ff2",
   "metadata": {},
   "outputs": [
    {
     "data": {
      "text/plain": [
       "4"
      ]
     },
     "execution_count": 9,
     "metadata": {},
     "output_type": "execute_result"
    }
   ],
   "source": [
    "points = [[1,1],[1,3],[3,1],[3,3],[2,2]]\n",
    "minAreaRect(points)"
   ]
  },
  {
   "cell_type": "code",
   "execution_count": null,
   "id": "fe61eae9",
   "metadata": {},
   "outputs": [],
   "source": []
  }
 ],
 "metadata": {
  "kernelspec": {
   "display_name": "Python 3",
   "language": "python",
   "name": "python3"
  },
  "language_info": {
   "codemirror_mode": {
    "name": "ipython",
    "version": 3
   },
   "file_extension": ".py",
   "mimetype": "text/x-python",
   "name": "python",
   "nbconvert_exporter": "python",
   "pygments_lexer": "ipython3",
   "version": "3.8.8"
  }
 },
 "nbformat": 4,
 "nbformat_minor": 5
}
