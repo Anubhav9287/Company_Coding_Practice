{
 "cells": [
  {
   "cell_type": "code",
   "execution_count": 11,
   "id": "73c8e62c",
   "metadata": {},
   "outputs": [],
   "source": [
    "#Code for taking input\n",
    "def user_input(co):\n",
    "    while(True):\n",
    "        try:\n",
    "            print(\"Please enter \",co,\" coordinate value:\")\n",
    "            x = float(input())\n",
    "            return x\n",
    "        except:\n",
    "            print('You did not enter an ingeter or a float. Please try again')"
   ]
  },
  {
   "cell_type": "code",
   "execution_count": 15,
   "id": "4e844239",
   "metadata": {},
   "outputs": [],
   "source": [
    "def Verify_Coordinate_Rectangle():\n",
    "    x1 = user_input(\"x1\")\n",
    "    y1 = user_input(\"y1\")\n",
    "    x2 = user_input(\"x2\")\n",
    "    y2 = user_input(\"y2\")\n",
    "    x = user_input(\"X (to check if this lies within rectangle)\")\n",
    "    y = user_input(\"Y (to check if this lies within rectangle)\")\n",
    "    new_x_max = max(x1, x2)\n",
    "    new_x_min = min(x1, x2)\n",
    "    new_y_max = max(y1, y2)\n",
    "    new_y_min = min(y1, y2)\n",
    "    if new_x_min <= x < new_x_max and new_y_min < y < new_y_max:\n",
    "        return True\n",
    "    else:\n",
    "        return False"
   ]
  },
  {
   "cell_type": "code",
   "execution_count": 18,
   "id": "0b5377d3",
   "metadata": {},
   "outputs": [],
   "source": [
    "def main():\n",
    "    print(Verify_Coordinate_Rectangle())\n",
    "    while True:\n",
    "        x = input('Do you want to continue?')\n",
    "        if x == 'Y' or x == 'y':\n",
    "            print(Verify_Coordinate_Rectangle())\n",
    "        else:\n",
    "            break\n",
    "    print('Goodbye!')"
   ]
  },
  {
   "cell_type": "code",
   "execution_count": 19,
   "id": "fbcf0f67",
   "metadata": {},
   "outputs": [
    {
     "name": "stdout",
     "output_type": "stream",
     "text": [
      "Please enter  x1  coordinate value:\n",
      "1\n",
      "Please enter  y1  coordinate value:\n",
      "3\n",
      "Please enter  x2  coordinate value:\n",
      "10\n",
      "Please enter  y2  coordinate value:\n",
      "6\n",
      "Please enter  X (to check if this lies within rectangle)  coordinate value:\n",
      "4\n",
      "Please enter  Y (to check if this lies within rectangle)  coordinate value:\n",
      "2\n",
      "False\n",
      "Do you want to continue?N\n",
      "Goodbye!\n"
     ]
    }
   ],
   "source": [
    "main()"
   ]
  },
  {
   "cell_type": "code",
   "execution_count": null,
   "id": "fb02174e",
   "metadata": {},
   "outputs": [],
   "source": []
  }
 ],
 "metadata": {
  "kernelspec": {
   "display_name": "Python 3",
   "language": "python",
   "name": "python3"
  },
  "language_info": {
   "codemirror_mode": {
    "name": "ipython",
    "version": 3
   },
   "file_extension": ".py",
   "mimetype": "text/x-python",
   "name": "python",
   "nbconvert_exporter": "python",
   "pygments_lexer": "ipython3",
   "version": "3.8.8"
  }
 },
 "nbformat": 4,
 "nbformat_minor": 5
}
