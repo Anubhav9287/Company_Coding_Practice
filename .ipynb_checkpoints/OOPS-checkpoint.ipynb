{
 "cells": [
  {
   "cell_type": "code",
   "execution_count": 13,
   "id": "b55d57d8",
   "metadata": {},
   "outputs": [],
   "source": [
    "class Car:\n",
    "    def __init__(self,make,model,year,color):\n",
    "        self.make = make\n",
    "        self.model = model\n",
    "        self.year = year\n",
    "        self.color = color\n",
    "    \n",
    "    def drive(self):\n",
    "        print(\"This \"+ self.model +\" is drivng\")\n",
    "    \n",
    "    def stop(self):\n",
    "        print(\"This \"+ self.model +\" is stopped\")"
   ]
  },
  {
   "cell_type": "code",
   "execution_count": 14,
   "id": "d45a46c1",
   "metadata": {},
   "outputs": [
    {
     "name": "stdout",
     "output_type": "stream",
     "text": [
      "Chevy\n",
      "Corvette\n",
      "2021\n",
      "Blue\n",
      "This Corvette is drivng\n",
      "This Corvette is stopped\n"
     ]
    }
   ],
   "source": [
    "# import Car\n",
    "car_1 = Car(\"Chevy\",\"Corvette\",2021,\"Blue\")\n",
    "print(car_1.make)\n",
    "print(car_1.model)\n",
    "print(car_1.year)\n",
    "print(car_1.color)\n",
    "car_1.drive()\n",
    "car_1.stop()"
   ]
  },
  {
   "cell_type": "code",
   "execution_count": 15,
   "id": "3e6d6a60",
   "metadata": {},
   "outputs": [
    {
     "name": "stdout",
     "output_type": "stream",
     "text": [
      "Ford\n",
      "Mustang\n",
      "2022\n",
      "Red\n",
      "This Mustang is drivng\n",
      "This Mustang is stopped\n"
     ]
    }
   ],
   "source": [
    "car_2 = Car(\"Ford\",\"Mustang\",2022,\"Red\")\n",
    "print(car_2.make)\n",
    "print(car_2.model)\n",
    "print(car_2.year)\n",
    "print(car_2.color)\n",
    "car_2.drive()\n",
    "car_2.stop()"
   ]
  },
  {
   "cell_type": "code",
   "execution_count": null,
   "id": "785393b1",
   "metadata": {},
   "outputs": [],
   "source": []
  }
 ],
 "metadata": {
  "kernelspec": {
   "display_name": "Python 3",
   "language": "python",
   "name": "python3"
  },
  "language_info": {
   "codemirror_mode": {
    "name": "ipython",
    "version": 3
   },
   "file_extension": ".py",
   "mimetype": "text/x-python",
   "name": "python",
   "nbconvert_exporter": "python",
   "pygments_lexer": "ipython3",
   "version": "3.8.8"
  }
 },
 "nbformat": 4,
 "nbformat_minor": 5
}
