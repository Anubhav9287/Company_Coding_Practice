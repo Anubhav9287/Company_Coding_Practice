{
 "cells": [
  {
   "cell_type": "code",
   "execution_count": 39,
   "id": "fd0378b7",
   "metadata": {},
   "outputs": [],
   "source": [
    "def bfs(row,col,grid):\n",
    "    directions = [(0,1),(1,0),(-1,0),(0,-1)]\n",
    "    visited = set()\n",
    "    q = [(row,col,0)]\n",
    "    while q:\n",
    "        c_r,c_c,c_dis = q.pop(0)\n",
    "        visited.add((c_r,c_c))\n",
    "        if grid[c_r][c_c] == 'Y':\n",
    "            return c_dis\n",
    "        for d_r,d_c in directions:\n",
    "            new_r = c_r+d_r\n",
    "            new_c = c_c+d_r\n",
    "            if ((0 <= new_r < len(grid)) and (0 <= new_c < len(grid[0])) and ((new_r,new_c) not in visited)):\n",
    "                q.append((new_r,new_c,c_dis+1))\n",
    "    return float('inf')\n",
    "\n",
    "def closestPath(grid):\n",
    "    \n",
    "    path = float('inf')\n",
    "    for row in range(len(grid)):\n",
    "        for col in range(len(grid[0])):\n",
    "            if grid[row][col] == 'X':\n",
    "                path = min(path,bfs(row,col,grid))\n",
    "    return -1 if path == float('inf') else path\n",
    "def test(testcase,actual,expected):\n",
    "    if actual == expected:\n",
    "        print(testcase, \"PASSED\")\n",
    "    else:\n",
    "        print(testcase, \"FAILED\")"
   ]
  },
  {
   "cell_type": "code",
   "execution_count": 40,
   "id": "70165f15",
   "metadata": {},
   "outputs": [],
   "source": [
    "#test data:\n",
    "grid = [['X',0,0],\n",
    "        [0,'Y',0],\n",
    "        ['X','Y',0]]\n",
    "grid1 = [['X',0,0],\n",
    "        [0,0,0],\n",
    "        ['X',0,0]]"
   ]
  },
  {
   "cell_type": "code",
   "execution_count": 41,
   "id": "1fe92b6b",
   "metadata": {},
   "outputs": [
    {
     "name": "stdout",
     "output_type": "stream",
     "text": [
      "testcase1 PASSED\n",
      "testcase2 PASSED\n"
     ]
    }
   ],
   "source": [
    "test(\"testcase1\",closestPath(grid),1)\n",
    "test(\"testcase2\",closestPath(grid1),-1)"
   ]
  },
  {
   "cell_type": "code",
   "execution_count": null,
   "id": "44ef0f43",
   "metadata": {},
   "outputs": [],
   "source": []
  }
 ],
 "metadata": {
  "kernelspec": {
   "display_name": "Python 3",
   "language": "python",
   "name": "python3"
  },
  "language_info": {
   "codemirror_mode": {
    "name": "ipython",
    "version": 3
   },
   "file_extension": ".py",
   "mimetype": "text/x-python",
   "name": "python",
   "nbconvert_exporter": "python",
   "pygments_lexer": "ipython3",
   "version": "3.8.8"
  }
 },
 "nbformat": 4,
 "nbformat_minor": 5
}
