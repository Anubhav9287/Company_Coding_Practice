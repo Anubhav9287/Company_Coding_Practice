{
 "cells": [
  {
   "cell_type": "code",
   "execution_count": 1,
   "id": "a35981f1",
   "metadata": {},
   "outputs": [],
   "source": [
    "class Node:\n",
    "    def __init__(self,key):\n",
    "        self.val = key\n",
    "        self.left = None\n",
    "        self.right = None"
   ]
  },
  {
   "cell_type": "markdown",
   "id": "a391bf44",
   "metadata": {},
   "source": [
    "      3\n",
    "     / \\\n",
    "    4   7\n",
    "    /\n",
    "   1"
   ]
  },
  {
   "cell_type": "code",
   "execution_count": 2,
   "id": "f18fc87f",
   "metadata": {},
   "outputs": [],
   "source": [
    "a = Node(3)\n",
    "b = Node(4)\n",
    "c = Node(7)\n",
    "d = Node(1)"
   ]
  },
  {
   "cell_type": "code",
   "execution_count": 22,
   "id": "2e04adc8",
   "metadata": {},
   "outputs": [],
   "source": [
    "a.left = b\n",
    "a.right = c\n",
    "b.left = d\n",
    "target = 10"
   ]
  },
  {
   "cell_type": "code",
   "execution_count": 27,
   "id": "c9b504fe",
   "metadata": {},
   "outputs": [],
   "source": [
    "def dfs(root,t):\n",
    "    if root != None:\n",
    "        print(\" --> \",root.val)\n",
    "    if root == None:\n",
    "        return False\n",
    "    if root.left == None and root.right == None:\n",
    "        t = t + root.val\n",
    "        if t == target:\n",
    "            return True\n",
    "        else:\n",
    "            return False\n",
    "    return dfs(root.left,t+root.val) or dfs(root.right,t+root.val)"
   ]
  },
  {
   "cell_type": "code",
   "execution_count": 28,
   "id": "0a8ae2ac",
   "metadata": {},
   "outputs": [
    {
     "name": "stdout",
     "output_type": "stream",
     "text": [
      " -->  3\n",
      " -->  4\n",
      " -->  1\n",
      " -->  7\n"
     ]
    },
    {
     "data": {
      "text/plain": [
       "True"
      ]
     },
     "execution_count": 28,
     "metadata": {},
     "output_type": "execute_result"
    }
   ],
   "source": [
    "dfs(a,0)"
   ]
  },
  {
   "cell_type": "code",
   "execution_count": null,
   "id": "4b5126d3",
   "metadata": {},
   "outputs": [],
   "source": []
  }
 ],
 "metadata": {
  "kernelspec": {
   "display_name": "Python 3",
   "language": "python",
   "name": "python3"
  },
  "language_info": {
   "codemirror_mode": {
    "name": "ipython",
    "version": 3
   },
   "file_extension": ".py",
   "mimetype": "text/x-python",
   "name": "python",
   "nbconvert_exporter": "python",
   "pygments_lexer": "ipython3",
   "version": "3.8.8"
  }
 },
 "nbformat": 4,
 "nbformat_minor": 5
}
