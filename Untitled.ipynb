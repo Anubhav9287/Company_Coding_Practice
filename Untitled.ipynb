{
 "cells": [
  {
   "cell_type": "code",
   "execution_count": 64,
   "id": "ba39654e",
   "metadata": {},
   "outputs": [],
   "source": [
    "s = [[12,15],[1,5],[32,34]]"
   ]
  },
  {
   "cell_type": "code",
   "execution_count": 65,
   "id": "cf0b5d2c",
   "metadata": {},
   "outputs": [],
   "source": [
    "#go though each value\n",
    "#[12,13,14,15,......]\n",
    "#random()"
   ]
  },
  {
   "cell_type": "code",
   "execution_count": 66,
   "id": "bae70c46",
   "metadata": {},
   "outputs": [
    {
     "data": {
      "text/plain": [
       "12"
      ]
     },
     "execution_count": 66,
     "metadata": {},
     "output_type": "execute_result"
    }
   ],
   "source": [
    "import random\n",
    "res = []\n",
    "for start,end in s:\n",
    "    res += [i for i in range(start,end+1)]\n",
    "random.choice(res)"
   ]
  },
  {
   "cell_type": "code",
   "execution_count": 98,
   "id": "e969cf7d",
   "metadata": {},
   "outputs": [
    {
     "data": {
      "text/plain": [
       "3"
      ]
     },
     "execution_count": 98,
     "metadata": {},
     "output_type": "execute_result"
    }
   ],
   "source": [
    "def randomNumber(s):\n",
    "    total_sum = 0\n",
    "    ans = 0\n",
    "    for start,end in s:\n",
    "        total_sum += (end-start)+1\n",
    "    random_index = random.randint(0,total_sum-1)\n",
    "    for start,end in s:\n",
    "        curr_len = end-start+1\n",
    "        \n",
    "        if curr_len > random_index:\n",
    "            ans = start+random_index\n",
    "            break\n",
    "        else:\n",
    "            random_index -= curr_len\n",
    "    return ans\n",
    "\n",
    "randomNumber(s)"
   ]
  },
  {
   "cell_type": "code",
   "execution_count": null,
   "id": "71610b54",
   "metadata": {},
   "outputs": [],
   "source": [
    "s = \"ABABA\"\n",
    "#go though each char\n",
    "# store = []\n",
    "# store = [A]\n",
    "# store = [A,B]\n",
    "# sore = [] break// return"
   ]
  },
  {
   "cell_type": "code",
   "execution_count": 99,
   "id": "53ca65c2",
   "metadata": {},
   "outputs": [],
   "source": [
    "def recur(s):\n",
    "    visited = set()\n",
    "    \n",
    "    if not len(s):\n",
    "        return None\n",
    "    for char in s:\n",
    "        if char in visited:\n",
    "            return char\n",
    "        else:\n",
    "            visited.add(char)\n",
    "    return \"Nothing\""
   ]
  },
  {
   "cell_type": "code",
   "execution_count": 103,
   "id": "44a8cb5a",
   "metadata": {},
   "outputs": [
    {
     "data": {
      "text/plain": [
       "'A'"
      ]
     },
     "execution_count": 103,
     "metadata": {},
     "output_type": "execute_result"
    }
   ],
   "source": [
    "recur(\"ABCA\")"
   ]
  },
  {
   "cell_type": "code",
   "execution_count": 113,
   "id": "10bc323e",
   "metadata": {},
   "outputs": [
    {
     "name": "stdout",
     "output_type": "stream",
     "text": [
      "10886400\n",
      "[3628800, 5443200, 3628800, 2721600, 2177280, 1814400, 1555200, 1360800, 1209600, 1088640]\n"
     ]
    }
   ],
   "source": [
    "s = [3,2,3,4,5,6,7,8,9,10]\n",
    "total = 1\n",
    "for i in s:\n",
    "    total *= i\n",
    "print(total)\n",
    "res = []\n",
    "for i in s:\n",
    "    res.append(total//i)\n",
    "print(res)"
   ]
  },
  {
   "cell_type": "code",
   "execution_count": 129,
   "id": "336ebbb3",
   "metadata": {},
   "outputs": [
    {
     "name": "stdout",
     "output_type": "stream",
     "text": [
      "[1, 1, 2, 6, 24]\n",
      "[1, 5, 20, 60, 120]\n"
     ]
    }
   ],
   "source": [
    "s = [1,2,3,4,5]\n",
    "n = len(s)\n",
    "left,right  = [1] * n, [1]*n\n",
    "product_array = []\n",
    "for i in range(1,n):\n",
    "    left[i] = left[i-1] *s[i-1]\n",
    "print(left)\n",
    "for i in range(1,n):\n",
    "    right[i] = right[i-1] * s[::-1][i-1]\n",
    "print(right)"
   ]
  },
  {
   "cell_type": "code",
   "execution_count": 130,
   "id": "dbd01576",
   "metadata": {},
   "outputs": [
    {
     "data": {
      "text/plain": [
       "[120, 60, 40, 30, 24]"
      ]
     },
     "execution_count": 130,
     "metadata": {},
     "output_type": "execute_result"
    }
   ],
   "source": [
    "for i in range(n):\n",
    "    product_array.append(left[i]*right[::-1][i])\n",
    "product_array"
   ]
  },
  {
   "cell_type": "code",
   "execution_count": null,
   "id": "7609ad1a",
   "metadata": {},
   "outputs": [],
   "source": []
  }
 ],
 "metadata": {
  "kernelspec": {
   "display_name": "Python 3",
   "language": "python",
   "name": "python3"
  },
  "language_info": {
   "codemirror_mode": {
    "name": "ipython",
    "version": 3
   },
   "file_extension": ".py",
   "mimetype": "text/x-python",
   "name": "python",
   "nbconvert_exporter": "python",
   "pygments_lexer": "ipython3",
   "version": "3.8.8"
  }
 },
 "nbformat": 4,
 "nbformat_minor": 5
}
