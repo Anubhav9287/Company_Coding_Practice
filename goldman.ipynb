{
 "cells": [
  {
   "cell_type": "code",
   "execution_count": 149,
   "id": "0b4516fd",
   "metadata": {},
   "outputs": [],
   "source": [
    "class Solution(object):\n",
    "    def countBinarySubstrings(s):\n",
    "        ans, prev, cur = 0, 0, 1\n",
    "        for i in xrange(1, len(s)):\n",
    "            if s[i-1] != s[i]:\n",
    "                ans += min(prev, cur)\n",
    "                prev, cur = cur, 1\n",
    "            else:\n",
    "                cur += 1\n",
    "        return ans + min(prev, cur)\n",
    "obj=Solution()\n",
    "print(obj.countBina)"
   ]
  },
  {
   "cell_type": "code",
   "execution_count": 158,
   "id": "edb963b0",
   "metadata": {},
   "outputs": [],
   "source": [
    "s = \"001100011\"\n",
    "def countBinarySubstrings(s):\n",
    "    ans, prev, cur = 0, 0, 1\n",
    "    for i in range(1, len(s)):\n",
    "        if s[i-1] != s[i]:\n",
    "            ans += min(prev, cur)\n",
    "            prev, cur = cur, 1\n",
    "        else:\n",
    "            cur += 1\n",
    "    return ans + min(prev, cur)"
   ]
  },
  {
   "cell_type": "code",
   "execution_count": 159,
   "id": "9a9b1341",
   "metadata": {},
   "outputs": [
    {
     "data": {
      "text/plain": [
       "6"
      ]
     },
     "execution_count": 159,
     "metadata": {},
     "output_type": "execute_result"
    }
   ],
   "source": [
    "countBinarySubstrings(s)"
   ]
  },
  {
   "cell_type": "code",
   "execution_count": 168,
   "id": "50a35500",
   "metadata": {},
   "outputs": [],
   "source": [
    "def maxProfit(costPerCut, salePrice, lengths):\n",
    "    max_profit = 0\n",
    "\n",
    "    for sale_length in range(1, max(lengths) + 1):\n",
    "        \n",
    "#         print()\n",
    "        \n",
    "        sale_price_per_rod = salePrice * sale_length\n",
    "        profit = 0\n",
    "\n",
    "        for rod_length in lengths:\n",
    "            uniform_rods = rod_length // sale_length\n",
    "            extra_cut = 0\n",
    "            if uniform_rods > 0:\n",
    "                if rod_length % sale_length > 0:\n",
    "                    extra_cut += 1\n",
    "                total_cuts = uniform_rods - 1 + extra_cut\n",
    "\n",
    "                costs = total_cuts * costPerCut\n",
    "                revenues = uniform_rods * sale_price_per_rod\n",
    "\n",
    "                if revenues > costs:\n",
    "                    profit += revenues - costs\n",
    "\n",
    "        if profit > max_profit:\n",
    "            max_profit = profit\n",
    "    return max_profit"
   ]
  },
  {
   "cell_type": "code",
   "execution_count": 169,
   "id": "7876a426",
   "metadata": {},
   "outputs": [
    {
     "data": {
      "text/plain": [
       "1770"
      ]
     },
     "execution_count": 169,
     "metadata": {},
     "output_type": "execute_result"
    }
   ],
   "source": [
    "maxProfit(1,10,[26,103,59])"
   ]
  },
  {
   "cell_type": "code",
   "execution_count": null,
   "id": "32d68c74",
   "metadata": {},
   "outputs": [],
   "source": []
  }
 ],
 "metadata": {
  "kernelspec": {
   "display_name": "Python 3",
   "language": "python",
   "name": "python3"
  },
  "language_info": {
   "codemirror_mode": {
    "name": "ipython",
    "version": 3
   },
   "file_extension": ".py",
   "mimetype": "text/x-python",
   "name": "python",
   "nbconvert_exporter": "python",
   "pygments_lexer": "ipython3",
   "version": "3.8.8"
  }
 },
 "nbformat": 4,
 "nbformat_minor": 5
}
