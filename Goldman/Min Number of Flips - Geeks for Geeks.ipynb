{
 "cells": [
  {
   "cell_type": "code",
   "execution_count": 20,
   "id": "e81adece",
   "metadata": {},
   "outputs": [],
   "source": [
    "def minFlips(S):\n",
    "    # Code here\n",
    "    alt1,alt2 = \"\",\"\"\n",
    "    for i in range(len(S)):\n",
    "        alt1 += \"0\" if i%2 == 0 else \"1\"\n",
    "        alt2 += \"1\" if i%2 == 0 else \"0\"\n",
    "    dif1,dif2 = 0,0\n",
    "    for i in range(len(S)):\n",
    "        if S[i] != alt1[i]:\n",
    "            dif1 += 1\n",
    "        if S[i] != alt2[i]:\n",
    "            dif2 += 1\n",
    "    return min(dif1,dif2)"
   ]
  },
  {
   "cell_type": "code",
   "execution_count": 21,
   "id": "570bfe28",
   "metadata": {},
   "outputs": [
    {
     "data": {
      "text/plain": [
       "2"
      ]
     },
     "execution_count": 21,
     "metadata": {},
     "output_type": "execute_result"
    }
   ],
   "source": [
    "test1 = \"0001010111\"\n",
    "minFlips(test1)"
   ]
  },
  {
   "cell_type": "code",
   "execution_count": null,
   "id": "67862a6f",
   "metadata": {},
   "outputs": [],
   "source": []
  }
 ],
 "metadata": {
  "kernelspec": {
   "display_name": "Python 3",
   "language": "python",
   "name": "python3"
  },
  "language_info": {
   "codemirror_mode": {
    "name": "ipython",
    "version": 3
   },
   "file_extension": ".py",
   "mimetype": "text/x-python",
   "name": "python",
   "nbconvert_exporter": "python",
   "pygments_lexer": "ipython3",
   "version": "3.8.8"
  }
 },
 "nbformat": 4,
 "nbformat_minor": 5
}
