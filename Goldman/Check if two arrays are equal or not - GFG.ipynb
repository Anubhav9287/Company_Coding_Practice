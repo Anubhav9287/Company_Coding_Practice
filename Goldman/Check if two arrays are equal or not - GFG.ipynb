{
 "cells": [
  {
   "cell_type": "code",
   "execution_count": 1,
   "id": "e77efb02",
   "metadata": {},
   "outputs": [],
   "source": [
    "A = [1,2,5,4,0]\n",
    "B = [2,4,5,0,1]"
   ]
  },
  {
   "cell_type": "code",
   "execution_count": 12,
   "id": "7b964edf",
   "metadata": {},
   "outputs": [],
   "source": [
    "def check(A,B):\n",
    "    d = {}\n",
    "    for i in A:\n",
    "        if i not in d:\n",
    "            d[i] = 1\n",
    "        else:\n",
    "            d[i] += 1\n",
    "    for i in B:\n",
    "        if i not in d:\n",
    "            d[i] = 1\n",
    "        else:\n",
    "            d[i] -= 1\n",
    "    for i in d:\n",
    "        if d[i] != 0:\n",
    "            return False\n",
    "    return True"
   ]
  },
  {
   "cell_type": "code",
   "execution_count": 13,
   "id": "31a663a2",
   "metadata": {},
   "outputs": [
    {
     "data": {
      "text/plain": [
       "True"
      ]
     },
     "execution_count": 13,
     "metadata": {},
     "output_type": "execute_result"
    }
   ],
   "source": [
    "check(A,B)"
   ]
  },
  {
   "cell_type": "code",
   "execution_count": null,
   "id": "a76142d9",
   "metadata": {},
   "outputs": [],
   "source": []
  }
 ],
 "metadata": {
  "kernelspec": {
   "display_name": "Python 3",
   "language": "python",
   "name": "python3"
  },
  "language_info": {
   "codemirror_mode": {
    "name": "ipython",
    "version": 3
   },
   "file_extension": ".py",
   "mimetype": "text/x-python",
   "name": "python",
   "nbconvert_exporter": "python",
   "pygments_lexer": "ipython3",
   "version": "3.8.8"
  }
 },
 "nbformat": 4,
 "nbformat_minor": 5
}
