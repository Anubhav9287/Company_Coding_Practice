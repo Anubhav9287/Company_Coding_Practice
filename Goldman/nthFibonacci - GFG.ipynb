{
 "cells": [
  {
   "cell_type": "code",
   "execution_count": 28,
   "id": "216c0274",
   "metadata": {},
   "outputs": [],
   "source": [
    "n = 656"
   ]
  },
  {
   "cell_type": "code",
   "execution_count": 37,
   "id": "ad46da99",
   "metadata": {},
   "outputs": [],
   "source": [
    "def nthFibonacci(n):\n",
    "    fibArray = [0, 1]\n",
    "    for i in range(2, n+1):\n",
    "        fibArray.append(fibArray[i-1] + fibArray[i-2])\n",
    "    return fibArray[n]%1000000007"
   ]
  },
  {
   "cell_type": "code",
   "execution_count": 38,
   "id": "a511583b",
   "metadata": {},
   "outputs": [
    {
     "data": {
      "text/plain": [
       "489376391"
      ]
     },
     "execution_count": 38,
     "metadata": {},
     "output_type": "execute_result"
    }
   ],
   "source": [
    "nthFibonacci(70)"
   ]
  },
  {
   "cell_type": "code",
   "execution_count": null,
   "id": "b58796bb",
   "metadata": {},
   "outputs": [],
   "source": [
    "# 0,1,1,2,3,5,8"
   ]
  }
 ],
 "metadata": {
  "kernelspec": {
   "display_name": "Python 3",
   "language": "python",
   "name": "python3"
  },
  "language_info": {
   "codemirror_mode": {
    "name": "ipython",
    "version": 3
   },
   "file_extension": ".py",
   "mimetype": "text/x-python",
   "name": "python",
   "nbconvert_exporter": "python",
   "pygments_lexer": "ipython3",
   "version": "3.8.8"
  }
 },
 "nbformat": 4,
 "nbformat_minor": 5
}
