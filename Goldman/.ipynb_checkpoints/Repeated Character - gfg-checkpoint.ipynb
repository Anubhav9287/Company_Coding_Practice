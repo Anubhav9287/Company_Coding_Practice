{
 "cells": [
  {
   "cell_type": "code",
   "execution_count": 30,
   "id": "35ca03bb",
   "metadata": {},
   "outputs": [],
   "source": [
    "S = \"geeksforgeeks\""
   ]
  },
  {
   "cell_type": "code",
   "execution_count": 31,
   "id": "5d19fc80",
   "metadata": {},
   "outputs": [],
   "source": [
    "def firstRep2(s):\n",
    "    d = {}\n",
    "    for i,v in enumerate(s):\n",
    "        if v not in d:\n",
    "            d[v] = (i,1)\n",
    "        else:\n",
    "            d[v] = (d[v][0],d[v][1]+1)\n",
    "    result = (len(s),-1)\n",
    "    for i in d:\n",
    "        if d[i][1] > 1:\n",
    "            if result[0] > d[i][0]:\n",
    "                result = (d[i][0],i)\n",
    "    return result[1]"
   ]
  },
  {
   "cell_type": "code",
   "execution_count": 32,
   "id": "9ea2ca0c",
   "metadata": {},
   "outputs": [
    {
     "data": {
      "text/plain": [
       "'g'"
      ]
     },
     "execution_count": 32,
     "metadata": {},
     "output_type": "execute_result"
    }
   ],
   "source": [
    "firstRep2(S)"
   ]
  },
  {
   "cell_type": "code",
   "execution_count": null,
   "id": "4ac76f5b",
   "metadata": {},
   "outputs": [],
   "source": []
  }
 ],
 "metadata": {
  "kernelspec": {
   "display_name": "Python 3",
   "language": "python",
   "name": "python3"
  },
  "language_info": {
   "codemirror_mode": {
    "name": "ipython",
    "version": 3
   },
   "file_extension": ".py",
   "mimetype": "text/x-python",
   "name": "python",
   "nbconvert_exporter": "python",
   "pygments_lexer": "ipython3",
   "version": "3.8.8"
  }
 },
 "nbformat": 4,
 "nbformat_minor": 5
}
