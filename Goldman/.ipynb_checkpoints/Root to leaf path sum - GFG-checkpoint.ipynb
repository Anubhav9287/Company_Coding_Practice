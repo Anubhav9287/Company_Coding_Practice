{
 "cells": [
  {
   "cell_type": "code",
   "execution_count": 1,
   "id": "898d91f6",
   "metadata": {},
   "outputs": [],
   "source": [
    "class Node:\n",
    "    def __init__(self,key):\n",
    "        self.val = key\n",
    "        self.left = None\n",
    "        self.right = None\n",
    "a = Node(1)\n",
    "b = Node(2)\n",
    "c = Node(3)\n",
    "a.left = b\n",
    "a.right = c"
   ]
  },
  {
   "cell_type": "code",
   "execution_count": 2,
   "id": "56eb1d28",
   "metadata": {},
   "outputs": [],
   "source": [
    "def hasPathSum(root, S):\n",
    "    if root == None:\n",
    "        return False\n",
    "    if root.left == None and root.right == None:\n",
    "        S = S - root.val\n",
    "        if S == 0:\n",
    "            return True\n",
    "        else:\n",
    "            return False\n",
    "    return hasPathSum(root.left,S-root.val) or hasPathSum(root.right,S-root.val)"
   ]
  },
  {
   "cell_type": "code",
   "execution_count": 7,
   "id": "44d81d0d",
   "metadata": {},
   "outputs": [
    {
     "data": {
      "text/plain": [
       "False"
      ]
     },
     "execution_count": 7,
     "metadata": {},
     "output_type": "execute_result"
    }
   ],
   "source": [
    "hasPathSum(a,1)"
   ]
  },
  {
   "cell_type": "code",
   "execution_count": null,
   "id": "ee60bc4a",
   "metadata": {},
   "outputs": [],
   "source": []
  }
 ],
 "metadata": {
  "kernelspec": {
   "display_name": "Python 3",
   "language": "python",
   "name": "python3"
  },
  "language_info": {
   "codemirror_mode": {
    "name": "ipython",
    "version": 3
   },
   "file_extension": ".py",
   "mimetype": "text/x-python",
   "name": "python",
   "nbconvert_exporter": "python",
   "pygments_lexer": "ipython3",
   "version": "3.8.8"
  }
 },
 "nbformat": 4,
 "nbformat_minor": 5
}
