{
 "cells": [
  {
   "cell_type": "code",
   "execution_count": 2,
   "id": "3d6c9886",
   "metadata": {},
   "outputs": [],
   "source": [
    "arr= ['aaa', 'bbb', 'ccc', 'bbb', 'aaa', 'aaa']"
   ]
  },
  {
   "cell_type": "code",
   "execution_count": 17,
   "id": "0c052b62",
   "metadata": {},
   "outputs": [],
   "source": [
    "def secFrequent(arr, n):\n",
    "    d = {}\n",
    "    for i in arr:\n",
    "        if i not in d:\n",
    "            d[i] = 1\n",
    "        else:\n",
    "            d[i] += 1\n",
    "    largest ,secondL = 0,0\n",
    "    for it in d:\n",
    "        if (d[it] > largest):\n",
    "                secondL = largest\n",
    "                largest = d[it]\n",
    "        elif (d[it] > secondL and\n",
    "              d[it] != largest):\n",
    "            secondL = d[it]\n",
    "    for i in d:\n",
    "        if d[i] == secondL:\n",
    "            return i\n",
    "        "
   ]
  },
  {
   "cell_type": "code",
   "execution_count": 18,
   "id": "81bc360b",
   "metadata": {},
   "outputs": [
    {
     "data": {
      "text/plain": [
       "'bbb'"
      ]
     },
     "execution_count": 18,
     "metadata": {},
     "output_type": "execute_result"
    }
   ],
   "source": [
    "secFrequent(arr,len(arr))"
   ]
  },
  {
   "cell_type": "code",
   "execution_count": null,
   "id": "60da9e2c",
   "metadata": {},
   "outputs": [],
   "source": []
  }
 ],
 "metadata": {
  "kernelspec": {
   "display_name": "Python 3",
   "language": "python",
   "name": "python3"
  },
  "language_info": {
   "codemirror_mode": {
    "name": "ipython",
    "version": 3
   },
   "file_extension": ".py",
   "mimetype": "text/x-python",
   "name": "python",
   "nbconvert_exporter": "python",
   "pygments_lexer": "ipython3",
   "version": "3.8.8"
  }
 },
 "nbformat": 4,
 "nbformat_minor": 5
}
