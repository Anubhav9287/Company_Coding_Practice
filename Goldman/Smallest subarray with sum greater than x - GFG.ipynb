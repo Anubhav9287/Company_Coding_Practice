{
 "cells": [
  {
   "cell_type": "code",
   "execution_count": 11,
   "id": "30bce940",
   "metadata": {},
   "outputs": [],
   "source": [
    "# A = [1, 10, 5, 2, 7]\n",
    "# x  = 19\n",
    "x = 51\n",
    "A = [1,4,45,6,0,19]"
   ]
  },
  {
   "cell_type": "code",
   "execution_count": 12,
   "id": "85f74d89",
   "metadata": {},
   "outputs": [],
   "source": [
    "def smallestSubWithSum(a, n, x):\n",
    "    start = 0\n",
    "    end = 0\n",
    "    min_len = n\n",
    "    while end < n:\n",
    "        result = 0\n",
    "        result = sum(a[start:end+1])\n",
    "        if result > x:\n",
    "            min_len = min(min_len,end-start+1)"
   ]
  },
  {
   "cell_type": "code",
   "execution_count": 13,
   "id": "13e6003d",
   "metadata": {},
   "outputs": [
    {
     "name": "stdout",
     "output_type": "stream",
     "text": [
      "2\n"
     ]
    }
   ],
   "source": [
    "smallestSubWithSum(A,len(A),x)"
   ]
  },
  {
   "cell_type": "code",
   "execution_count": null,
   "id": "3d224d4d",
   "metadata": {},
   "outputs": [],
   "source": [
    "Must live a commutable distance to or be willing to relocate to one of the following USDC locations: \n",
    "Lake Mary, FL; Mechanicsburg, PA"
   ]
  }
 ],
 "metadata": {
  "kernelspec": {
   "display_name": "Python 3",
   "language": "python",
   "name": "python3"
  },
  "language_info": {
   "codemirror_mode": {
    "name": "ipython",
    "version": 3
   },
   "file_extension": ".py",
   "mimetype": "text/x-python",
   "name": "python",
   "nbconvert_exporter": "python",
   "pygments_lexer": "ipython3",
   "version": "3.8.8"
  }
 },
 "nbformat": 4,
 "nbformat_minor": 5
}
