{
 "cells": [
  {
   "cell_type": "code",
   "execution_count": 3,
   "id": "7a020db4",
   "metadata": {},
   "outputs": [],
   "source": [
    "#User function Template for python3\n",
    "\n",
    "class MyQueue:\n",
    "    def __init__(self):\n",
    "        self.q = []\n",
    "        self.front = self.rear = 0\n",
    "    #Function to push an element x in a queue.\n",
    "    def push(self, x):\n",
    "        self.q.append(x)\n",
    "        self.rear += 1\n",
    "         #add code here\n",
    "     \n",
    "    #Function to pop an element from queue and return that element.\n",
    "    def pop(self): \n",
    "         # add code here\n",
    "        if self.rear == self.front:\n",
    "            return -1\n",
    "        else:\n",
    "            tmp = self.q.pop(0)\n",
    "            self.rear -= 1\n",
    "            return tmp\n",
    "\n",
    "#{ \n",
    " # Driver Code Starts\n",
    "#Initial Template for Python 3\n",
    "\n",
    "if __name__=='__main__':\n",
    "    t=int(input())\n",
    "    for i in range(t):\n",
    "        s=MyQueue()\n",
    "        q=int(input())\n",
    "        q1=list(map(int,input().split()))\n",
    "        i=0\n",
    "        while(i<len(q1)):\n",
    "            if(q1[i]==1):\n",
    "                s.push(q1[i+1])\n",
    "                i=i+2\n",
    "            elif(q1[i]==2):\n",
    "                print(s.pop(),end=\" \")\n",
    "                i=i+1\n",
    "            elif(s.isEmpty()):\n",
    "                print(-1)\n",
    "                i=i+1\n",
    "        print()   \n",
    "\n",
    "# } Driver Code Ends"
   ]
  }
 ],
 "metadata": {
  "kernelspec": {
   "display_name": "Python 3",
   "language": "python",
   "name": "python3"
  },
  "language_info": {
   "codemirror_mode": {
    "name": "ipython",
    "version": 3
   },
   "file_extension": ".py",
   "mimetype": "text/x-python",
   "name": "python",
   "nbconvert_exporter": "python",
   "pygments_lexer": "ipython3",
   "version": "3.8.8"
  }
 },
 "nbformat": 4,
 "nbformat_minor": 5
}
