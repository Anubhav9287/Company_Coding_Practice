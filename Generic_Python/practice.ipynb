{
 "cells": [
  {
   "cell_type": "markdown",
   "id": "337c156f",
   "metadata": {},
   "source": [
    "#### Write a function to reverse a string in Python."
   ]
  },
  {
   "cell_type": "code",
   "execution_count": 1,
   "id": "3cae766c",
   "metadata": {},
   "outputs": [],
   "source": [
    "def reverseString(string):\n",
    "    print(\"Before: \",string)\n",
    "    new_string = []\n",
    "    for i in range(len(string)-1,-1,-1):\n",
    "        new_string.append(string[i])\n",
    "    return ''.join(new_string)"
   ]
  },
  {
   "cell_type": "code",
   "execution_count": 2,
   "id": "b90f32c3",
   "metadata": {},
   "outputs": [
    {
     "name": "stdout",
     "output_type": "stream",
     "text": [
      "Before:  ABCD\n"
     ]
    },
    {
     "data": {
      "text/plain": [
       "'DCBA'"
      ]
     },
     "execution_count": 2,
     "metadata": {},
     "output_type": "execute_result"
    }
   ],
   "source": [
    "reverseString(\"ABCD\")"
   ]
  },
  {
   "cell_type": "markdown",
   "id": "7b60f51c",
   "metadata": {},
   "source": [
    "##### Write a function to find the maximum sum of a contiguous subarray within a list of integers in Python."
   ]
  },
  {
   "cell_type": "code",
   "execution_count": 3,
   "id": "4e840dfd",
   "metadata": {},
   "outputs": [],
   "source": [
    "l = [-1,0,23,-12,90,0,1,5,6,7,-2,3,-1]"
   ]
  },
  {
   "cell_type": "code",
   "execution_count": 4,
   "id": "324bc9f6",
   "metadata": {},
   "outputs": [],
   "source": [
    "def maxSub(nums):\n",
    "    temp = [0] * len(nums)\n",
    "    temp[0] = nums[0]\n",
    "    m = nums[0]\n",
    "    for i in range(1,len(nums)):\n",
    "        temp[i] = max(nums[i], temp[i-1]+nums[i])\n",
    "        m = max(m,temp[i])\n",
    "    return m"
   ]
  },
  {
   "cell_type": "code",
   "execution_count": 5,
   "id": "6837556c",
   "metadata": {},
   "outputs": [
    {
     "data": {
      "text/plain": [
       "121"
      ]
     },
     "execution_count": 5,
     "metadata": {},
     "output_type": "execute_result"
    }
   ],
   "source": [
    "maxSub(l)"
   ]
  },
  {
   "cell_type": "markdown",
   "id": "a12d88f9",
   "metadata": {},
   "source": [
    "##### Write a function to find the first non-repeating character in a string in Python."
   ]
  },
  {
   "cell_type": "code",
   "execution_count": 6,
   "id": "cad8c225",
   "metadata": {},
   "outputs": [],
   "source": [
    "s = \"abcbcd\"\n",
    "def nonRepeating(s):\n",
    "    m_count = {}\n",
    "    for i in s:\n",
    "        if i not in m_count:\n",
    "            m_count[i] = 1\n",
    "        else:\n",
    "            m_count[i] += 1\n",
    "    for k,v in m_count.items():\n",
    "        if v == 1:\n",
    "            return k\n",
    "    return False"
   ]
  },
  {
   "cell_type": "code",
   "execution_count": 7,
   "id": "ed31ccd8",
   "metadata": {},
   "outputs": [
    {
     "data": {
      "text/plain": [
       "'a'"
      ]
     },
     "execution_count": 7,
     "metadata": {},
     "output_type": "execute_result"
    }
   ],
   "source": [
    "nonRepeating(s)"
   ]
  },
  {
   "cell_type": "markdown",
   "id": "60ca84ec",
   "metadata": {},
   "source": [
    "##### Write a function to check if a given string is a palindrome in Python."
   ]
  },
  {
   "cell_type": "code",
   "execution_count": 8,
   "id": "6725878c",
   "metadata": {},
   "outputs": [
    {
     "name": "stdout",
     "output_type": "stream",
     "text": [
      "True\n",
      "True\n",
      "True\n",
      "False\n"
     ]
    }
   ],
   "source": [
    "s1 = \"lol\"\n",
    "s2 = \"lolol\"\n",
    "s3 = \"\"\n",
    "s4 = \"abcda\"\n",
    "def palindrome(s):\n",
    "    l = 0\n",
    "    r = len(s)-1\n",
    "    \n",
    "    while l <= r:\n",
    "        if s[l] == s[r]:\n",
    "            l += 1\n",
    "            r -= 1\n",
    "        else:\n",
    "            return False\n",
    "    return True\n",
    "print(palindrome(s1))\n",
    "print(palindrome(s2))\n",
    "print(palindrome(s3))\n",
    "print(palindrome(s4))"
   ]
  },
  {
   "cell_type": "markdown",
   "id": "53bbdb7e",
   "metadata": {},
   "source": [
    "##### Write a function to implement a binary search algorithm in Python"
   ]
  },
  {
   "cell_type": "code",
   "execution_count": 9,
   "id": "fa983718",
   "metadata": {},
   "outputs": [
    {
     "name": "stdout",
     "output_type": "stream",
     "text": [
      "True\n",
      "False\n"
     ]
    }
   ],
   "source": [
    "arr = [10, 20, 30, 50, 60, 80, 110, 130, 140, 170]\n",
    "x = 110\n",
    "x2 = 12\n",
    "def findElement(arr,x):\n",
    "    l = 0\n",
    "    r = len(arr)-1\n",
    "    \n",
    "    while l <= r:\n",
    "        m = l + (r - l) // 2\n",
    "        if arr[m] == x:\n",
    "            return True\n",
    "        elif arr[m] < x:\n",
    "            l = m+1\n",
    "        else:\n",
    "            r = m-1\n",
    "    return False\n",
    "print(findElement(arr,x))\n",
    "print(findElement(arr,x2))"
   ]
  },
  {
   "cell_type": "markdown",
   "id": "27c39718",
   "metadata": {},
   "source": [
    "##### Write a function to find the second largest number in a list of integers in Python."
   ]
  },
  {
   "cell_type": "code",
   "execution_count": 10,
   "id": "cf15cba3",
   "metadata": {},
   "outputs": [
    {
     "name": "stdout",
     "output_type": "stream",
     "text": [
      "234\n",
      "1\n",
      "No second largest number exist.\n",
      "1\n"
     ]
    }
   ],
   "source": [
    "nums = [1,2,3,5,6,43,12,546,78,234,65,0,97,4,3,12]\n",
    "nums2 = [1,1,2]\n",
    "nums3 = []\n",
    "nums4 = [1,2,2]\n",
    "#Time complex - O(NlogN)\n",
    "def secondLargest(nums):\n",
    "    if not nums:\n",
    "        return \"No second largest number exist.\"\n",
    "    nums = sorted(nums)\n",
    "    temp = nums[-1]\n",
    "    for n in range(len(nums)-1,-1,-1):\n",
    "        if temp != nums[n]:\n",
    "            return nums[n]\n",
    "    return \"No second largest number exist.\"\n",
    "print(secondLargest(nums))\n",
    "print(secondLargest(nums2))\n",
    "print(secondLargest(nums3))\n",
    "print(secondLargest(nums4))"
   ]
  },
  {
   "cell_type": "code",
   "execution_count": 11,
   "id": "d295545a",
   "metadata": {},
   "outputs": [],
   "source": [
    "#Time complex - O(N)\n",
    "def secondLargest2(nums):\n",
    "    if len(nums) <= 1:\n",
    "        return \"No second largest number exist.\"\n",
    "    temp = max(nums)\n",
    "    second_largest = nums[0]\n",
    "    for n in nums:\n",
    "        if n > second_largest and n < temp:\n",
    "            second_largest = n\n",
    "    if second_largest == temp:\n",
    "        return \"No second largest number exist.\"\n",
    "    return second_largest"
   ]
  },
  {
   "cell_type": "code",
   "execution_count": 12,
   "id": "ae052478",
   "metadata": {},
   "outputs": [
    {
     "name": "stdout",
     "output_type": "stream",
     "text": [
      "234\n",
      "1\n",
      "No second largest number exist.\n",
      "1\n"
     ]
    }
   ],
   "source": [
    "print(secondLargest2(nums))\n",
    "print(secondLargest2(nums2))\n",
    "print(secondLargest2(nums3))\n",
    "print(secondLargest2(nums4))"
   ]
  },
  {
   "cell_type": "markdown",
   "id": "1f6c9d56",
   "metadata": {},
   "source": [
    "##### Write a function to check if two strings are anagrams in Python."
   ]
  },
  {
   "cell_type": "code",
   "execution_count": 13,
   "id": "3961af77",
   "metadata": {},
   "outputs": [],
   "source": [
    "str1 = 'listen'\n",
    "str2 = 'silent'\n",
    "def anagrams(str1,str2):\n",
    "    return sorted(list(str1)) == sorted(list(str2))"
   ]
  },
  {
   "cell_type": "code",
   "execution_count": 14,
   "id": "c5586e89",
   "metadata": {},
   "outputs": [
    {
     "name": "stdout",
     "output_type": "stream",
     "text": [
      "True\n",
      "True\n",
      "False\n",
      "False\n",
      "True\n"
     ]
    }
   ],
   "source": [
    "print(anagrams(str1,str2))\n",
    "print(anagrams(\"\",\"\"))\n",
    "print(anagrams(\"abc\",\"acbc\"))\n",
    "print(anagrams(\"Abc\",\"abc\"))\n",
    "print(anagrams(\"test\",\"estt\"))"
   ]
  },
  {
   "cell_type": "code",
   "execution_count": 15,
   "id": "dcb7cf0b",
   "metadata": {},
   "outputs": [],
   "source": [
    "def anagrams2(str1,str2):\n",
    "    m = {}\n",
    "    if len(str1) != len(str2):\n",
    "        return False\n",
    "    for c in str1:\n",
    "        if c in m:\n",
    "            m[c] += 1\n",
    "        else:\n",
    "            m[c] = 1\n",
    "    for c in str2:\n",
    "        if c in m:\n",
    "            m[c] -= 1\n",
    "        else:\n",
    "            return False\n",
    "    for k,v in m.items():\n",
    "        if v != 0:\n",
    "            return False\n",
    "    return True"
   ]
  },
  {
   "cell_type": "code",
   "execution_count": 16,
   "id": "f4acc495",
   "metadata": {},
   "outputs": [
    {
     "name": "stdout",
     "output_type": "stream",
     "text": [
      "True\n",
      "True\n",
      "False\n",
      "False\n",
      "True\n"
     ]
    }
   ],
   "source": [
    "print(anagrams2(str1,str2))\n",
    "print(anagrams2(\"\",\"\"))\n",
    "print(anagrams2(\"abc\",\"acbc\"))\n",
    "print(anagrams2(\"Abc\",\"abc\"))\n",
    "print(anagrams2(\"test\",\"estt\"))"
   ]
  },
  {
   "cell_type": "markdown",
   "id": "9c45d076",
   "metadata": {},
   "source": [
    "##### Write a function to implement a bubble sort algorithm in Python."
   ]
  },
  {
   "cell_type": "code",
   "execution_count": 17,
   "id": "acccaa8b",
   "metadata": {},
   "outputs": [],
   "source": [
    "nums = [5, 5, 0, 6, 1, 4, 2, 8]\n",
    "def bubbleSort(nums):\n",
    "    for i in range(len(nums)):\n",
    "        for j in range(len(nums)-i-1):\n",
    "            if nums[j] > nums[j+1]:\n",
    "                temp = nums[j]\n",
    "                nums[j] = nums[j+1]\n",
    "                nums[j+1] = temp\n",
    "#         print(nums)\n",
    "    return nums"
   ]
  },
  {
   "cell_type": "code",
   "execution_count": 18,
   "id": "7ef42f21",
   "metadata": {},
   "outputs": [
    {
     "data": {
      "text/plain": [
       "[0, 1, 2, 4, 5, 5, 6, 8]"
      ]
     },
     "execution_count": 18,
     "metadata": {},
     "output_type": "execute_result"
    }
   ],
   "source": [
    "bubbleSort(nums)"
   ]
  },
  {
   "cell_type": "markdown",
   "id": "ed39860f",
   "metadata": {},
   "source": [
    "##### Write a function to remove duplicates from a list of integers in Python."
   ]
  },
  {
   "cell_type": "code",
   "execution_count": 19,
   "id": "e1424ddb",
   "metadata": {},
   "outputs": [],
   "source": [
    "nums = [5, 5, 0, 6, 1, 4, 2, 8]\n",
    "def removeDuplicates(nums):\n",
    "    return list(set(nums))"
   ]
  },
  {
   "cell_type": "code",
   "execution_count": 20,
   "id": "e03beb1d",
   "metadata": {},
   "outputs": [
    {
     "data": {
      "text/plain": [
       "[0, 1, 2, 4, 5, 6, 8]"
      ]
     },
     "execution_count": 20,
     "metadata": {},
     "output_type": "execute_result"
    }
   ],
   "source": [
    "removeDuplicates(nums)"
   ]
  },
  {
   "cell_type": "code",
   "execution_count": 21,
   "id": "62f94834",
   "metadata": {},
   "outputs": [],
   "source": [
    "nums = [5, 5, 0, 6, 1, 4, 2, 8]\n",
    "def removeDuplicates(nums):\n",
    "    temp = set()\n",
    "    result = []\n",
    "    for n in nums:\n",
    "        if n not in temp:\n",
    "            temp.add(n)\n",
    "            result.append(n)\n",
    "    return result"
   ]
  },
  {
   "cell_type": "code",
   "execution_count": 22,
   "id": "5cdfdd41",
   "metadata": {},
   "outputs": [
    {
     "data": {
      "text/plain": [
       "[5, 0, 6, 1, 4, 2, 8]"
      ]
     },
     "execution_count": 22,
     "metadata": {},
     "output_type": "execute_result"
    }
   ],
   "source": [
    "removeDuplicates(nums)"
   ]
  },
  {
   "cell_type": "markdown",
   "id": "a8e797fa",
   "metadata": {},
   "source": [
    "##### Write a function to implement a stack data structure in Python"
   ]
  },
  {
   "cell_type": "code",
   "execution_count": 35,
   "id": "4d7d6594",
   "metadata": {},
   "outputs": [],
   "source": [
    "class stack:\n",
    "    def __init__(self):\n",
    "        self.nums = []\n",
    "    def push(self,element):\n",
    "        self.nums.append(element)\n",
    "    def pop(self):\n",
    "        if len(self.nums) > 0:\n",
    "            e = self.nums[0]\n",
    "            self.nums = self.nums[:-1]\n",
    "            return e\n",
    "        else:\n",
    "            return None\n",
    "    def top(self):\n",
    "        return self.nums[-1]\n",
    "    def show(self):\n",
    "        return self.nums"
   ]
  },
  {
   "cell_type": "code",
   "execution_count": 36,
   "id": "e825363e",
   "metadata": {},
   "outputs": [
    {
     "name": "stdout",
     "output_type": "stream",
     "text": [
      "[1, 3, 19]\n",
      "[1, 3, 19, 12]\n",
      "12\n",
      "1\n",
      "19\n",
      "[1, 3, 19]\n"
     ]
    }
   ],
   "source": [
    "obj = stack()\n",
    "obj.push(1)\n",
    "obj.push(3)\n",
    "obj.push(19)\n",
    "print(obj.show())\n",
    "obj.push(12)\n",
    "print(obj.show())\n",
    "print(obj.top())\n",
    "print(obj.pop())\n",
    "print(obj.top())\n",
    "print(obj.show())"
   ]
  },
  {
   "cell_type": "code",
   "execution_count": null,
   "id": "401ca39b",
   "metadata": {},
   "outputs": [],
   "source": []
  }
 ],
 "metadata": {
  "kernelspec": {
   "display_name": "Python 3",
   "language": "python",
   "name": "python3"
  },
  "language_info": {
   "codemirror_mode": {
    "name": "ipython",
    "version": 3
   },
   "file_extension": ".py",
   "mimetype": "text/x-python",
   "name": "python",
   "nbconvert_exporter": "python",
   "pygments_lexer": "ipython3",
   "version": "3.8.8"
  }
 },
 "nbformat": 4,
 "nbformat_minor": 5
}
