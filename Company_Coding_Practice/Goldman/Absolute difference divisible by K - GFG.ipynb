{
 "cells": [
  {
   "cell_type": "code",
   "execution_count": 57,
   "id": "1a7b8032",
   "metadata": {},
   "outputs": [],
   "source": [
    "n = 4\n",
    "arr = [5,5,10,10,2,1,7,8,9,5]\n",
    "k = 3"
   ]
  },
  {
   "cell_type": "code",
   "execution_count": 58,
   "id": "064c11fa",
   "metadata": {},
   "outputs": [],
   "source": [
    "def countPairs(n, arr, k):\n",
    "    count = 0\n",
    "    for i in range(len(arr)):\n",
    "        for j in range(i+1,len(arr)):\n",
    "            if (arr[i]-arr[j])%k == 0:\n",
    "                count += 1\n",
    "    return count"
   ]
  },
  {
   "cell_type": "code",
   "execution_count": 59,
   "id": "1ecf00a8",
   "metadata": {},
   "outputs": [
    {
     "data": {
      "text/plain": [
       "16"
      ]
     },
     "execution_count": 59,
     "metadata": {},
     "output_type": "execute_result"
    }
   ],
   "source": [
    "countPairs(n,arr,k)"
   ]
  },
  {
   "cell_type": "code",
   "execution_count": 82,
   "id": "2c64589a",
   "metadata": {},
   "outputs": [],
   "source": [
    "n = 10\n",
    "arr = [5,5,10,10,2,1,7,8,9,5]\n",
    "k = 3\n",
    "def countPairs2(n,arr,k):\n",
    "    cnt = 0\n",
    "    for i in range(n):\n",
    "        arr[i] = (arr[i]) % k\n",
    "    hash = [0]*k\n",
    "    for i in range(n):\n",
    "        hash[arr[i]] += 1\n",
    "    for i in range(k):\n",
    "        cnt += (hash[i] * (hash[i] - 1)) / 2\n",
    "    print(int(cnt));"
   ]
  },
  {
   "cell_type": "code",
   "execution_count": 83,
   "id": "d0285ea4",
   "metadata": {},
   "outputs": [
    {
     "name": "stdout",
     "output_type": "stream",
     "text": [
      "16\n"
     ]
    }
   ],
   "source": [
    "countPairs2(n,arr,k)"
   ]
  },
  {
   "cell_type": "code",
   "execution_count": null,
   "id": "f06c59f4",
   "metadata": {},
   "outputs": [],
   "source": []
  },
  {
   "cell_type": "code",
   "execution_count": null,
   "id": "2907f6ca",
   "metadata": {},
   "outputs": [],
   "source": []
  }
 ],
 "metadata": {
  "kernelspec": {
   "display_name": "Python 3",
   "language": "python",
   "name": "python3"
  },
  "language_info": {
   "codemirror_mode": {
    "name": "ipython",
    "version": 3
   },
   "file_extension": ".py",
   "mimetype": "text/x-python",
   "name": "python",
   "nbconvert_exporter": "python",
   "pygments_lexer": "ipython3",
   "version": "3.8.8"
  }
 },
 "nbformat": 4,
 "nbformat_minor": 5
}
