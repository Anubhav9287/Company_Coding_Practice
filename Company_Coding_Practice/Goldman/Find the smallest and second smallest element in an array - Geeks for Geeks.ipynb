{
 "cells": [
  {
   "cell_type": "code",
   "execution_count": 22,
   "id": "ba06727f",
   "metadata": {},
   "outputs": [],
   "source": [
    "a = [1,1,1,1,1,1]"
   ]
  },
  {
   "cell_type": "code",
   "execution_count": 25,
   "id": "9da674a9",
   "metadata": {},
   "outputs": [],
   "source": [
    "def minAnd2ndMin(ar,n):\n",
    "    print(ar)\n",
    "    if n <=1:\n",
    "        return [-1]\n",
    "    m1 = ar[0]\n",
    "    m2 = ar[0]\n",
    "    for i in ar:\n",
    "        m1 = min(m1,i)\n",
    "    for i in ar:\n",
    "        if i != m1:\n",
    "            m2 = min(i,m2)\n",
    "    if m1 == m2:\n",
    "        return [-1]\n",
    "    return [m1,m2]"
   ]
  },
  {
   "cell_type": "code",
   "execution_count": 26,
   "id": "a44a597a",
   "metadata": {},
   "outputs": [
    {
     "name": "stdout",
     "output_type": "stream",
     "text": [
      "[1, 1, 1, 1, 1, 1]\n"
     ]
    },
    {
     "data": {
      "text/plain": [
       "[-1, -1]"
      ]
     },
     "execution_count": 26,
     "metadata": {},
     "output_type": "execute_result"
    }
   ],
   "source": [
    "minAnd2ndMin(a,len(a))"
   ]
  },
  {
   "cell_type": "code",
   "execution_count": null,
   "id": "18346f4f",
   "metadata": {},
   "outputs": [],
   "source": []
  }
 ],
 "metadata": {
  "kernelspec": {
   "display_name": "Python 3",
   "language": "python",
   "name": "python3"
  },
  "language_info": {
   "codemirror_mode": {
    "name": "ipython",
    "version": 3
   },
   "file_extension": ".py",
   "mimetype": "text/x-python",
   "name": "python",
   "nbconvert_exporter": "python",
   "pygments_lexer": "ipython3",
   "version": "3.8.8"
  }
 },
 "nbformat": 4,
 "nbformat_minor": 5
}
