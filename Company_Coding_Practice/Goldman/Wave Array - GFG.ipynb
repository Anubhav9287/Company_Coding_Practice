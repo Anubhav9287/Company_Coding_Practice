{
 "cells": [
  {
   "cell_type": "code",
   "execution_count": 38,
   "id": "8c7832c5",
   "metadata": {},
   "outputs": [],
   "source": [
    "arr = [1,2,3,4,5]\n",
    "# arr = [0,0]\n",
    "# 2 1 4 3 5\n",
    "# 2 4 7 8 9 10\n",
    "# 4 2 8 7 10 9"
   ]
  },
  {
   "cell_type": "code",
   "execution_count": 39,
   "id": "e67f6dc2",
   "metadata": {},
   "outputs": [],
   "source": [
    "i = 0\n",
    "l = len(arr)-1 if len(arr)%2 != 0 else len(arr)\n",
    "while i < l:\n",
    "    #to swap use 3rd variable\n",
    "#     tmp = arr[i]\n",
    "#     arr[i] = arr[i+1]\n",
    "#     arr[i+1] = tmp\n",
    "    arr[i], arr[i+1] = arr[i+1], arr[i]\n",
    "    i += 2"
   ]
  },
  {
   "cell_type": "code",
   "execution_count": 40,
   "id": "972e7784",
   "metadata": {},
   "outputs": [
    {
     "data": {
      "text/plain": [
       "[2, 1, 4, 3, 5]"
      ]
     },
     "execution_count": 40,
     "metadata": {},
     "output_type": "execute_result"
    }
   ],
   "source": [
    "arr"
   ]
  },
  {
   "cell_type": "code",
   "execution_count": null,
   "id": "ffc1f009",
   "metadata": {},
   "outputs": [],
   "source": []
  }
 ],
 "metadata": {
  "kernelspec": {
   "display_name": "Python 3",
   "language": "python",
   "name": "python3"
  },
  "language_info": {
   "codemirror_mode": {
    "name": "ipython",
    "version": 3
   },
   "file_extension": ".py",
   "mimetype": "text/x-python",
   "name": "python",
   "nbconvert_exporter": "python",
   "pygments_lexer": "ipython3",
   "version": "3.8.8"
  }
 },
 "nbformat": 4,
 "nbformat_minor": 5
}
