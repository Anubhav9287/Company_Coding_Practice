{
 "cells": [
  {
   "cell_type": "code",
   "execution_count": 12,
   "id": "c9e77edf",
   "metadata": {},
   "outputs": [],
   "source": [
    "class Node:\n",
    "    def __init__(self,key):\n",
    "        self.val = key\n",
    "        self.next = None\n",
    "a = Node(1)\n",
    "b = Node(2)\n",
    "c = Node(3)\n",
    "d = Node(4)\n",
    "e = Node(5)\n",
    "a.next = b\n",
    "b.next = c\n",
    "c.next = d\n",
    "d.next = e"
   ]
  },
  {
   "cell_type": "code",
   "execution_count": 13,
   "id": "22db31b9",
   "metadata": {},
   "outputs": [],
   "source": [
    "def printF(root):\n",
    "    while root:\n",
    "        print(root.val,\" --> \",end='')\n",
    "        root = root.next\n",
    "    print(\"None\")"
   ]
  },
  {
   "cell_type": "code",
   "execution_count": 14,
   "id": "51f8fe79",
   "metadata": {},
   "outputs": [
    {
     "name": "stdout",
     "output_type": "stream",
     "text": [
      "1  --> 2  --> 3  --> 4  --> 5  --> None\n"
     ]
    }
   ],
   "source": [
    "printF(a)"
   ]
  },
  {
   "cell_type": "code",
   "execution_count": 15,
   "id": "6fdabffa",
   "metadata": {},
   "outputs": [],
   "source": [
    "def deleteNode(curr_node):\n",
    "    if curr_node == None:\n",
    "        return\n",
    "    else:\n",
    "        if curr_node.next == None:\n",
    "            return\n",
    "    curr_node.val = curr_node.next.val\n",
    "    curr_node.next = curr_node.next.next"
   ]
  },
  {
   "cell_type": "code",
   "execution_count": 16,
   "id": "9515f74f",
   "metadata": {},
   "outputs": [],
   "source": [
    "deleteNode(b)"
   ]
  },
  {
   "cell_type": "code",
   "execution_count": 17,
   "id": "044fa725",
   "metadata": {},
   "outputs": [
    {
     "name": "stdout",
     "output_type": "stream",
     "text": [
      "1  --> 3  --> 4  --> 5  --> None\n"
     ]
    }
   ],
   "source": [
    "printF(a)"
   ]
  }
 ],
 "metadata": {
  "kernelspec": {
   "display_name": "Python 3",
   "language": "python",
   "name": "python3"
  },
  "language_info": {
   "codemirror_mode": {
    "name": "ipython",
    "version": 3
   },
   "file_extension": ".py",
   "mimetype": "text/x-python",
   "name": "python",
   "nbconvert_exporter": "python",
   "pygments_lexer": "ipython3",
   "version": "3.8.8"
  }
 },
 "nbformat": 4,
 "nbformat_minor": 5
}
