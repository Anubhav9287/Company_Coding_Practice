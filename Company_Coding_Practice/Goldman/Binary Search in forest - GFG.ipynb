{
 "cells": [
  {
   "cell_type": "code",
   "execution_count": 10,
   "id": "17beef4a",
   "metadata": {},
   "outputs": [],
   "source": [
    "n = 1\n",
    "k = 9\n",
    "tree = [96]\n",
    "#  3 = 0 + 0 + (6-3) + 0 + (4-3) = 4\n",
    "# 1\n",
    "# 96\n",
    "# 9"
   ]
  },
  {
   "cell_type": "code",
   "execution_count": 15,
   "id": "88e0b239",
   "metadata": {},
   "outputs": [],
   "source": [
    "def find_height(tree,n,k):\n",
    "    mx = max(tree)\n",
    "    mi = 1\n",
    "    while mi <= mx:\n",
    "        mid = (mi+mx)//2\n",
    "        wood_collected = 0\n",
    "        for i in tree:\n",
    "            if i > mid:\n",
    "                wood_collected = wood_collected + (i-mid)\n",
    "#         print(wood_collected)\n",
    "        if wood_collected == k:\n",
    "            return mid\n",
    "        elif wood_collected > k:\n",
    "            mi = mid + 1\n",
    "        else:\n",
    "            mx = mid - 1\n",
    "    return -1"
   ]
  },
  {
   "cell_type": "code",
   "execution_count": 16,
   "id": "1d75ad5f",
   "metadata": {},
   "outputs": [
    {
     "data": {
      "text/plain": [
       "87"
      ]
     },
     "execution_count": 16,
     "metadata": {},
     "output_type": "execute_result"
    }
   ],
   "source": [
    "find_height(tree,n,k)"
   ]
  },
  {
   "cell_type": "code",
   "execution_count": null,
   "id": "15dff663",
   "metadata": {},
   "outputs": [],
   "source": []
  }
 ],
 "metadata": {
  "kernelspec": {
   "display_name": "Python 3",
   "language": "python",
   "name": "python3"
  },
  "language_info": {
   "codemirror_mode": {
    "name": "ipython",
    "version": 3
   },
   "file_extension": ".py",
   "mimetype": "text/x-python",
   "name": "python",
   "nbconvert_exporter": "python",
   "pygments_lexer": "ipython3",
   "version": "3.8.8"
  }
 },
 "nbformat": 4,
 "nbformat_minor": 5
}
