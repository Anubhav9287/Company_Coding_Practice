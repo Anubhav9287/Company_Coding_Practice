{
 "cells": [
  {
   "cell_type": "code",
   "execution_count": 61,
   "id": "101d1ce8",
   "metadata": {},
   "outputs": [],
   "source": [
    "arr = [-1,-17,-12,8,16,-17,-13,-14,-3,-6,-5,-11,-10,-12,-5,19,-17,-5,-1,12]"
   ]
  },
  {
   "cell_type": "code",
   "execution_count": 62,
   "id": "ccf8920f",
   "metadata": {},
   "outputs": [],
   "source": [
    "def firstNonRepeating(arr, n): \n",
    "        # Complete the function\n",
    "        d = {}\n",
    "        for i in range(len(arr)):\n",
    "            if arr[i] not in d:\n",
    "                d[arr[i]] = 1\n",
    "            else:\n",
    "                d[arr[i]] += 1\n",
    "        for i in range(len(arr)):\n",
    "            if d[arr[i]] == 1:\n",
    "                return arr[i]\n",
    "        return 0"
   ]
  },
  {
   "cell_type": "code",
   "execution_count": 63,
   "id": "e102e6d6",
   "metadata": {},
   "outputs": [
    {
     "data": {
      "text/plain": [
       "8"
      ]
     },
     "execution_count": 63,
     "metadata": {},
     "output_type": "execute_result"
    }
   ],
   "source": [
    "firstNonRepeating(arr,len(arr))"
   ]
  },
  {
   "cell_type": "code",
   "execution_count": 77,
   "id": "0708b99c",
   "metadata": {},
   "outputs": [
    {
     "name": "stdout",
     "output_type": "stream",
     "text": [
      "-1\n",
      "-17\n",
      "-12\n",
      "8\n",
      "16\n",
      "-13\n",
      "-14\n",
      "-3\n",
      "-6\n",
      "-5\n",
      "-11\n",
      "-10\n",
      "19\n",
      "12\n"
     ]
    }
   ],
   "source": [
    "d = {}\n",
    "for i in arr:\n",
    "    if i not in d:\n",
    "        d[i] = 1\n",
    "    else:\n",
    "        d[i] += 1\n",
    "for i in d:\n",
    "    print(i)"
   ]
  },
  {
   "cell_type": "code",
   "execution_count": 69,
   "id": "d985c4c8",
   "metadata": {},
   "outputs": [
    {
     "name": "stdout",
     "output_type": "stream",
     "text": [
      "3.8.8\n"
     ]
    }
   ],
   "source": [
    "from platform import python_version\n",
    "\n",
    "print(python_version())"
   ]
  },
  {
   "cell_type": "code",
   "execution_count": null,
   "id": "3895638b",
   "metadata": {},
   "outputs": [],
   "source": []
  }
 ],
 "metadata": {
  "kernelspec": {
   "display_name": "Python 3",
   "language": "python",
   "name": "python3"
  },
  "language_info": {
   "codemirror_mode": {
    "name": "ipython",
    "version": 3
   },
   "file_extension": ".py",
   "mimetype": "text/x-python",
   "name": "python",
   "nbconvert_exporter": "python",
   "pygments_lexer": "ipython3",
   "version": "3.8.8"
  }
 },
 "nbformat": 4,
 "nbformat_minor": 5
}
