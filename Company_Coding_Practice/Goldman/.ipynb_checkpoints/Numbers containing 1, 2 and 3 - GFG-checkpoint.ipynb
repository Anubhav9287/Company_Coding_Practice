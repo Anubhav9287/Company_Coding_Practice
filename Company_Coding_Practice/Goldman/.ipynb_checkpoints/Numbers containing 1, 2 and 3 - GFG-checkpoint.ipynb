{
 "cells": [
  {
   "cell_type": "code",
   "execution_count": 48,
   "id": "3ee4afde",
   "metadata": {},
   "outputs": [],
   "source": [
    "arr = [4,6,7,1,2,3,12,32,123,321,3242,0,1233333]\n",
    "arr1 = [4,6]"
   ]
  },
  {
   "cell_type": "code",
   "execution_count": 51,
   "id": "8b970c77",
   "metadata": {},
   "outputs": [],
   "source": [
    "def findAll(arr):\n",
    "    check = {'1','2','3'}\n",
    "    result = []\n",
    "    b = True\n",
    "    for i in arr:\n",
    "        for j in str(i):\n",
    "            if j not in check:\n",
    "                b = False\n",
    "                break\n",
    "        if b:\n",
    "            result.append(i)\n",
    "        else:\n",
    "            b = True\n",
    "    return resukt if result else -1"
   ]
  },
  {
   "cell_type": "code",
   "execution_count": 52,
   "id": "0de9c2b3",
   "metadata": {},
   "outputs": [
    {
     "data": {
      "text/plain": [
       "-1"
      ]
     },
     "execution_count": 52,
     "metadata": {},
     "output_type": "execute_result"
    }
   ],
   "source": [
    "findAll(arr1)"
   ]
  },
  {
   "cell_type": "code",
   "execution_count": 53,
   "id": "85ae402b",
   "metadata": {},
   "outputs": [],
   "source": [
    "def isValid(num):\n",
    "    while num!=0:\n",
    "        rem=num%10\n",
    "        if rem!=1 and rem!=2 and rem!=3:\n",
    "            return False\n",
    "        num //=10\n",
    "    return True\n",
    "def findAll():\n",
    "    #code here\n",
    "    for i in range(1,1000001):\n",
    "        if isValid(i)==True:\n",
    "            mp[i]=1"
   ]
  },
  {
   "cell_type": "code",
   "execution_count": null,
   "id": "32523af1",
   "metadata": {},
   "outputs": [],
   "source": []
  }
 ],
 "metadata": {
  "kernelspec": {
   "display_name": "Python 3",
   "language": "python",
   "name": "python3"
  },
  "language_info": {
   "codemirror_mode": {
    "name": "ipython",
    "version": 3
   },
   "file_extension": ".py",
   "mimetype": "text/x-python",
   "name": "python",
   "nbconvert_exporter": "python",
   "pygments_lexer": "ipython3",
   "version": "3.8.8"
  }
 },
 "nbformat": 4,
 "nbformat_minor": 5
}
