{
 "cells": [
  {
   "cell_type": "code",
   "execution_count": 55,
   "id": "956da84d",
   "metadata": {},
   "outputs": [],
   "source": [
    "arr = 'hnwnkuewhsqmgbbuqcljjivswmdkqtbxixmvtrrbljptnsnfwzqfjmafadrrwsofsbcnuvqhffbsaqxwpqcac'"
   ]
  },
  {
   "cell_type": "code",
   "execution_count": 63,
   "id": "d9f8781a",
   "metadata": {},
   "outputs": [],
   "source": [
    "def encode(arr):\n",
    "    result = \"\"\n",
    "    i = 0\n",
    "    n = len(arr)\n",
    "    while i < n:\n",
    "        count = 1\n",
    "        while i < n-1 and arr[i] == arr[i+1]:\n",
    "            count += 1\n",
    "            i += 1\n",
    "        result = result + arr[i] + str(count)\n",
    "        i += 1\n",
    "    return result"
   ]
  },
  {
   "cell_type": "code",
   "execution_count": 64,
   "id": "cd8aad5b",
   "metadata": {},
   "outputs": [
    {
     "data": {
      "text/plain": [
       "'h1n1w1n1k1u1e1w1h1s1q1m1g1b2u1q1c1l1j2i1v1s1w1m1d1k1q1t1b1x1i1x1m1v1t1r2b1l1j1p1t1n1s1n1f1w1z1q1f1j1m1a1f1a1d1r2w1s1o1f1s1b1c1n1u1v1q1h1f2b1s1a1q1x1w1p1q1c1a1c1'"
      ]
     },
     "execution_count": 64,
     "metadata": {},
     "output_type": "execute_result"
    }
   ],
   "source": [
    "encode(arr)"
   ]
  },
  {
   "cell_type": "code",
   "execution_count": null,
   "id": "36d22165",
   "metadata": {},
   "outputs": [],
   "source": []
  }
 ],
 "metadata": {
  "kernelspec": {
   "display_name": "Python 3",
   "language": "python",
   "name": "python3"
  },
  "language_info": {
   "codemirror_mode": {
    "name": "ipython",
    "version": 3
   },
   "file_extension": ".py",
   "mimetype": "text/x-python",
   "name": "python",
   "nbconvert_exporter": "python",
   "pygments_lexer": "ipython3",
   "version": "3.8.8"
  }
 },
 "nbformat": 4,
 "nbformat_minor": 5
}
