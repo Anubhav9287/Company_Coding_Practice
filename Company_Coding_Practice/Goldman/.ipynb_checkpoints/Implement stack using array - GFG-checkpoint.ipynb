{
 "cells": [
  {
   "cell_type": "code",
   "execution_count": null,
   "id": "1809057a",
   "metadata": {},
   "outputs": [],
   "source": [
    "#User function Template for python3\n",
    "\n",
    "class MyStack:\n",
    "    \n",
    "    def __init__(self):\n",
    "        self.arr=[]\n",
    "        self.rear = 0\n",
    "    \n",
    "    #Function to push an integer into the stack.\n",
    "    def push(self,data):\n",
    "        #add code here\n",
    "        self.arr.append(data)\n",
    "        self.rear += 1\n",
    "    \n",
    "    #Function to remove an item from top of the stack.\n",
    "    def pop(self):\n",
    "        #add code here\n",
    "        if self.rear == 0:\n",
    "            return -1\n",
    "        else:\n",
    "            self.rear -= 1\n",
    "            return self.arr.pop(self.rear)\n",
    "        \n",
    "        \n",
    "\n",
    "\n",
    "#{ \n",
    " # Driver Code Starts\n",
    "#Initial Template for Python 3\n",
    "\n",
    "if __name__=='__main__':\n",
    "    t=int(input())\n",
    "    for i in range(t):\n",
    "        s=MyStack()\n",
    "        q=int(input())\n",
    "        q1=list(map(int,input().split()))\n",
    "        i=0\n",
    "        while(i<len(q1)):\n",
    "            if(q1[i]==1):\n",
    "                s.push(q1[i+1])\n",
    "                i=i+2\n",
    "            elif(q1[i]==2):\n",
    "                print(s.pop(),end=\" \")\n",
    "                i=i+1\n",
    "            elif(s.isEmpty()):\n",
    "                print(-1)\n",
    "                i=i+1\n",
    "        print()   \n",
    "# } Driver Code Ends"
   ]
  },
  {
   "cell_type": "code",
   "execution_count": null,
   "id": "6335f6c7",
   "metadata": {},
   "outputs": [],
   "source": []
  }
 ],
 "metadata": {
  "kernelspec": {
   "display_name": "Python 3",
   "language": "python",
   "name": "python3"
  },
  "language_info": {
   "codemirror_mode": {
    "name": "ipython",
    "version": 3
   },
   "file_extension": ".py",
   "mimetype": "text/x-python",
   "name": "python",
   "nbconvert_exporter": "python",
   "pygments_lexer": "ipython3",
   "version": "3.8.8"
  }
 },
 "nbformat": 4,
 "nbformat_minor": 5
}
