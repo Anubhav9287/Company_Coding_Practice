{
 "cells": [
  {
   "cell_type": "code",
   "execution_count": 17,
   "id": "1f758b7a",
   "metadata": {},
   "outputs": [],
   "source": [
    "S = \"i.like.this.program.very.much\"\n",
    "St = \"much.very.program.this.like.i\""
   ]
  },
  {
   "cell_type": "code",
   "execution_count": 9,
   "id": "97695dc2",
   "metadata": {},
   "outputs": [],
   "source": [
    "def reverseWords(S):\n",
    "    s = S.split('.')\n",
    "    result = \"\"\n",
    "    for i in range(len(s)-1,-1,-1):\n",
    "        result += s[i]+'.'\n",
    "    return result[:-1]"
   ]
  },
  {
   "cell_type": "code",
   "execution_count": 31,
   "id": "84b79751",
   "metadata": {},
   "outputs": [
    {
     "name": "stdout",
     "output_type": "stream",
     "text": [
      "Hi\n"
     ]
    }
   ],
   "source": [
    "reverseWords(\"Hi\")"
   ]
  },
  {
   "cell_type": "code",
   "execution_count": null,
   "id": "7eca2672",
   "metadata": {},
   "outputs": [],
   "source": []
  },
  {
   "cell_type": "code",
   "execution_count": null,
   "id": "fd1806c9",
   "metadata": {},
   "outputs": [],
   "source": []
  }
 ],
 "metadata": {
  "kernelspec": {
   "display_name": "Python 3",
   "language": "python",
   "name": "python3"
  },
  "language_info": {
   "codemirror_mode": {
    "name": "ipython",
    "version": 3
   },
   "file_extension": ".py",
   "mimetype": "text/x-python",
   "name": "python",
   "nbconvert_exporter": "python",
   "pygments_lexer": "ipython3",
   "version": "3.8.8"
  }
 },
 "nbformat": 4,
 "nbformat_minor": 5
}
