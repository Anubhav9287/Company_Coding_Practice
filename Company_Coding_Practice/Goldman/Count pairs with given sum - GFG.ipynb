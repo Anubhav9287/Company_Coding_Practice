{
 "cells": [
  {
   "cell_type": "code",
   "execution_count": 1,
   "id": "6173861a",
   "metadata": {},
   "outputs": [],
   "source": [
    "N = 4\n",
    "K = 6\n",
    "arr = [1, 5, 7, 1]"
   ]
  },
  {
   "cell_type": "code",
   "execution_count": 2,
   "id": "fb5ff9fa",
   "metadata": {},
   "outputs": [
    {
     "name": "stdout",
     "output_type": "stream",
     "text": [
      "2\n"
     ]
    }
   ],
   "source": [
    "def countPair(N,K,arr):\n",
    "    count = 0\n",
    "    for i in range(N):\n",
    "        for j in range(i+1,N):\n",
    "            if arr[i] + arr[j] == K:\n",
    "                count += 1\n",
    "    print(count)\n",
    "#Calling Function\n",
    "countPair(N,K,arr)"
   ]
  },
  {
   "cell_type": "code",
   "execution_count": 6,
   "id": "8e5cf092",
   "metadata": {},
   "outputs": [
    {
     "data": {
      "text/plain": [
       "2"
      ]
     },
     "execution_count": 6,
     "metadata": {},
     "output_type": "execute_result"
    }
   ],
   "source": [
    "def countPair2(N,K,arr):\n",
    "    d = {}\n",
    "    count = 0\n",
    "    for i in arr:\n",
    "        if K-i in d:\n",
    "            count += d[K-i]\n",
    "        if i in d:\n",
    "            d[i] += 1\n",
    "        else:\n",
    "            d[i] = 1\n",
    "    return count\n",
    "countPair2(N,K,arr)"
   ]
  },
  {
   "cell_type": "code",
   "execution_count": null,
   "id": "31668d7a",
   "metadata": {},
   "outputs": [],
   "source": []
  }
 ],
 "metadata": {
  "kernelspec": {
   "display_name": "Python 3",
   "language": "python",
   "name": "python3"
  },
  "language_info": {
   "codemirror_mode": {
    "name": "ipython",
    "version": 3
   },
   "file_extension": ".py",
   "mimetype": "text/x-python",
   "name": "python",
   "nbconvert_exporter": "python",
   "pygments_lexer": "ipython3",
   "version": "3.8.8"
  }
 },
 "nbformat": 4,
 "nbformat_minor": 5
}
