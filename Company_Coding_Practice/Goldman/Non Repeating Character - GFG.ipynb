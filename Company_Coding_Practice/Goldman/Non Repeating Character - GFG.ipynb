{
 "cells": [
  {
   "cell_type": "code",
   "execution_count": 1,
   "id": "68aec19f",
   "metadata": {},
   "outputs": [],
   "source": [
    "S = 'zxvczbtxyzvy'"
   ]
  },
  {
   "cell_type": "code",
   "execution_count": 14,
   "id": "dbdb93ee",
   "metadata": {},
   "outputs": [],
   "source": [
    "def nonrepeatingCharacter(s):\n",
    "    d = dict()\n",
    "    for i in S:\n",
    "        if i not in d:\n",
    "            d[i] = 1\n",
    "        else:\n",
    "            d[i] += 1\n",
    "    for i in S:\n",
    "        if d[i] == 1:\n",
    "            return i\n",
    "    return '$'"
   ]
  },
  {
   "cell_type": "code",
   "execution_count": 15,
   "id": "975a2873",
   "metadata": {},
   "outputs": [
    {
     "data": {
      "text/plain": [
       "'c'"
      ]
     },
     "execution_count": 15,
     "metadata": {},
     "output_type": "execute_result"
    }
   ],
   "source": [
    "nonrepeatingCharacter(S)"
   ]
  }
 ],
 "metadata": {
  "kernelspec": {
   "display_name": "Python 3",
   "language": "python",
   "name": "python3"
  },
  "language_info": {
   "codemirror_mode": {
    "name": "ipython",
    "version": 3
   },
   "file_extension": ".py",
   "mimetype": "text/x-python",
   "name": "python",
   "nbconvert_exporter": "python",
   "pygments_lexer": "ipython3",
   "version": "3.8.8"
  }
 },
 "nbformat": 4,
 "nbformat_minor": 5
}
