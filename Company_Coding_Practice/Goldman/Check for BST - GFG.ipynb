{
 "cells": [
  {
   "cell_type": "code",
   "execution_count": 6,
   "id": "2dc91ebf",
   "metadata": {},
   "outputs": [],
   "source": [
    "#Create a BST\n",
    "#    2\n",
    "#   / \\\n",
    "#  1   3 \n",
    "class Node:\n",
    "    def __init__(self,key):\n",
    "        self.val = key\n",
    "        self.left = None\n",
    "        self.right = None\n",
    "a = Node(2)\n",
    "b = Node(1)\n",
    "c = Node(2)\n",
    "a.left = b\n",
    "a.right = c"
   ]
  },
  {
   "cell_type": "code",
   "execution_count": 7,
   "id": "0bf54ac9",
   "metadata": {},
   "outputs": [],
   "source": [
    "#print tree values:\n",
    "def printTree(root):\n",
    "    if root == None:\n",
    "        return\n",
    "    print(root.val)\n",
    "    printTree(root.left)\n",
    "    printTree(root.right)"
   ]
  },
  {
   "cell_type": "code",
   "execution_count": 8,
   "id": "ee70c2c1",
   "metadata": {},
   "outputs": [
    {
     "name": "stdout",
     "output_type": "stream",
     "text": [
      "2\n",
      "1\n",
      "2\n"
     ]
    }
   ],
   "source": [
    "printTree(a)"
   ]
  },
  {
   "cell_type": "code",
   "execution_count": 9,
   "id": "eb65979b",
   "metadata": {},
   "outputs": [],
   "source": [
    "def isBST(root):\n",
    "    def checkBST(root,left,right):\n",
    "        if root == None:\n",
    "            return True\n",
    "        if not (root.val > left and root.val < right) :\n",
    "            return False\n",
    "        return (checkBST(root.left,left,root.val) and checkBST(root.right,root.val,right))\n",
    "    return checkBST(root,float('-inf'),float('inf'))"
   ]
  },
  {
   "cell_type": "code",
   "execution_count": 10,
   "id": "60b86753",
   "metadata": {},
   "outputs": [
    {
     "data": {
      "text/plain": [
       "False"
      ]
     },
     "execution_count": 10,
     "metadata": {},
     "output_type": "execute_result"
    }
   ],
   "source": [
    "isBST(a)"
   ]
  },
  {
   "cell_type": "code",
   "execution_count": null,
   "id": "37ff1b8d",
   "metadata": {},
   "outputs": [],
   "source": []
  }
 ],
 "metadata": {
  "kernelspec": {
   "display_name": "Python 3",
   "language": "python",
   "name": "python3"
  },
  "language_info": {
   "codemirror_mode": {
    "name": "ipython",
    "version": 3
   },
   "file_extension": ".py",
   "mimetype": "text/x-python",
   "name": "python",
   "nbconvert_exporter": "python",
   "pygments_lexer": "ipython3",
   "version": "3.8.8"
  }
 },
 "nbformat": 4,
 "nbformat_minor": 5
}
