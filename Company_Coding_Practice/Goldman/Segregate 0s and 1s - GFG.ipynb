{
 "cells": [
  {
   "cell_type": "code",
   "execution_count": 57,
   "id": "53730d18",
   "metadata": {},
   "outputs": [],
   "source": [
    "N = 42\n",
    "arr= [1,0,0,1,0,0,0,0,0,1,1,1,1,1,1,1,0,1,0,1,0,0,1,0,0,1,0,0,1,1,0,1,0,1,0,1,1,1,0,1,1,0]\n",
    "#       1 0 0 1 0 0 0 0 0 1 1 1 1 1 1 1 0 1 0 1 0 0 1 0 0 1 0 0 1 1 0 1 0 1 0 1 1 1 0 1 1 0"
   ]
  },
  {
   "cell_type": "code",
   "execution_count": 70,
   "id": "52006761",
   "metadata": {},
   "outputs": [],
   "source": [
    "def segregate0and1(arr, n):\n",
    "    l = 0\n",
    "    r = n-1\n",
    "#     print(r)\n",
    "    while l < r:\n",
    "        while arr[l] == 0 and l < r:\n",
    "            l+=1\n",
    "        while arr[r] == 1 and l < r:\n",
    "            r -= 1\n",
    "        if l < r:\n",
    "            arr[l] = 0\n",
    "            arr[r] = 1\n",
    "            l += 1\n",
    "            r -= 1\n",
    "    return arr"
   ]
  },
  {
   "cell_type": "code",
   "execution_count": 71,
   "id": "12683af6",
   "metadata": {},
   "outputs": [
    {
     "data": {
      "text/plain": [
       "[0,\n",
       " 0,\n",
       " 0,\n",
       " 0,\n",
       " 0,\n",
       " 0,\n",
       " 0,\n",
       " 0,\n",
       " 0,\n",
       " 0,\n",
       " 0,\n",
       " 0,\n",
       " 0,\n",
       " 0,\n",
       " 0,\n",
       " 0,\n",
       " 0,\n",
       " 0,\n",
       " 0,\n",
       " 0,\n",
       " 0,\n",
       " 0,\n",
       " 0,\n",
       " 0,\n",
       " 0,\n",
       " 0,\n",
       " 0,\n",
       " 0,\n",
       " 1,\n",
       " 1,\n",
       " 1,\n",
       " 1,\n",
       " 1,\n",
       " 1,\n",
       " 1,\n",
       " 1,\n",
       " 1,\n",
       " 1,\n",
       " 1,\n",
       " 1,\n",
       " 1,\n",
       " 1]"
      ]
     },
     "execution_count": 71,
     "metadata": {},
     "output_type": "execute_result"
    }
   ],
   "source": [
    "segregate0and1(arr,N)"
   ]
  },
  {
   "cell_type": "code",
   "execution_count": null,
   "id": "6c5a553e",
   "metadata": {},
   "outputs": [],
   "source": []
  }
 ],
 "metadata": {
  "kernelspec": {
   "display_name": "Python 3",
   "language": "python",
   "name": "python3"
  },
  "language_info": {
   "codemirror_mode": {
    "name": "ipython",
    "version": 3
   },
   "file_extension": ".py",
   "mimetype": "text/x-python",
   "name": "python",
   "nbconvert_exporter": "python",
   "pygments_lexer": "ipython3",
   "version": "3.8.8"
  }
 },
 "nbformat": 4,
 "nbformat_minor": 5
}
