{
 "cells": [
  {
   "cell_type": "code",
   "execution_count": 34,
   "id": "2771ece6",
   "metadata": {},
   "outputs": [],
   "source": [
    "N = 7\n",
    "A = [100,180,260,310,40,5,9]"
   ]
  },
  {
   "cell_type": "code",
   "execution_count": 35,
   "id": "0bb6795a",
   "metadata": {},
   "outputs": [],
   "source": [
    "def stockBuySell(A, n):\n",
    "    result = []\n",
    "    l = 0\n",
    "    r = 1\n",
    "    while r < len(A):\n",
    "        if A[l] < A[r]:\n",
    "            pass\n",
    "        else:\n",
    "            result.append((l,r-1))\n",
    "            l = r\n",
    "        r += 1\n",
    "    result.append((l,r-1))\n",
    "    return result"
   ]
  },
  {
   "cell_type": "code",
   "execution_count": 36,
   "id": "b54cf2e4",
   "metadata": {},
   "outputs": [
    {
     "data": {
      "text/plain": [
       "[(0, 3), (4, 4), (5, 6)]"
      ]
     },
     "execution_count": 36,
     "metadata": {},
     "output_type": "execute_result"
    }
   ],
   "source": [
    "stockBuySell(A,N)"
   ]
  },
  {
   "cell_type": "code",
   "execution_count": 45,
   "id": "43b97c8b",
   "metadata": {},
   "outputs": [],
   "source": [
    "def stockBuySell(price, n):\n",
    "    i = 0\n",
    "    result = []\n",
    "    while (i < (n - 1)):\n",
    "        while ((i < (n - 1)) and (price[i + 1] <= price[i])):\n",
    "            i += 1\n",
    "        if (i == n - 1):\n",
    "            break\n",
    "        buy = i\n",
    "        i += 1\n",
    "        while ((i < n) and (price[i] >= price[i - 1])):\n",
    "            i += 1\n",
    "        sell = i - 1\n",
    "        result.append((buy,sell))\n",
    "    return result"
   ]
  },
  {
   "cell_type": "code",
   "execution_count": 46,
   "id": "6cc3c890",
   "metadata": {},
   "outputs": [
    {
     "data": {
      "text/plain": [
       "[(0, 3), (5, 6)]"
      ]
     },
     "execution_count": 46,
     "metadata": {},
     "output_type": "execute_result"
    }
   ],
   "source": [
    "stockBuySell(A,N)"
   ]
  },
  {
   "cell_type": "code",
   "execution_count": null,
   "id": "999ff518",
   "metadata": {},
   "outputs": [],
   "source": []
  }
 ],
 "metadata": {
  "kernelspec": {
   "display_name": "Python 3",
   "language": "python",
   "name": "python3"
  },
  "language_info": {
   "codemirror_mode": {
    "name": "ipython",
    "version": 3
   },
   "file_extension": ".py",
   "mimetype": "text/x-python",
   "name": "python",
   "nbconvert_exporter": "python",
   "pygments_lexer": "ipython3",
   "version": "3.8.8"
  }
 },
 "nbformat": 4,
 "nbformat_minor": 5
}
