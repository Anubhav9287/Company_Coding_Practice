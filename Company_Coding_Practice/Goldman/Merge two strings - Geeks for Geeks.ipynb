{
 "cells": [
  {
   "cell_type": "markdown",
   "id": "3152d115",
   "metadata": {},
   "source": [
    "Given two strings S1 and S2 as input, the task is to merge them alternatively i.e. the first character of S1 then the first character of S2 and so on till the strings end.\n",
    "###### Example 1:\n",
    "Input:<br>\n",
    "S1 = \"Hello\" S2 = \"Bye\"<br>\n",
    "Output: HBeylelo<br>\n",
    "Explanation: The characters of both the <br>\n",
    "given strings are arranged alternatlively.<br>\n",
    "\n",
    "\n",
    "###### Example 2:\n",
    "Input: <br>\n",
    "S1 = \"abc\", S2 = \"def\"<br>\n",
    "Output: adbecf<br>\n",
    "Explanation: The characters of both the<br>\n",
    "given strings are arranged alternatlively.<br>"
   ]
  },
  {
   "cell_type": "code",
   "execution_count": 13,
   "id": "5a26f3dd",
   "metadata": {},
   "outputs": [],
   "source": [
    "def merge(S1, S2):\n",
    "    result = \"\"\n",
    "    for i in range(min(len(S1),len(S2))):\n",
    "        result = result + S1[i]\n",
    "        result = result + S2[i]\n",
    "    if i < len(S1):\n",
    "        result += S1[i+1:]\n",
    "    if i < len(S2):\n",
    "        result += S2[i+1:]\n",
    "    return result"
   ]
  },
  {
   "cell_type": "code",
   "execution_count": 14,
   "id": "a5b9b825",
   "metadata": {},
   "outputs": [
    {
     "name": "stdout",
     "output_type": "stream",
     "text": [
      "AaBbCcDEFG\n"
     ]
    }
   ],
   "source": [
    "S1 = \"ABCDEFG\"\n",
    "S2 = \"abc\"\n",
    "merge(S1,S2)"
   ]
  },
  {
   "cell_type": "code",
   "execution_count": null,
   "id": "c2c684c3",
   "metadata": {},
   "outputs": [],
   "source": []
  }
 ],
 "metadata": {
  "kernelspec": {
   "display_name": "Python 3",
   "language": "python",
   "name": "python3"
  },
  "language_info": {
   "codemirror_mode": {
    "name": "ipython",
    "version": 3
   },
   "file_extension": ".py",
   "mimetype": "text/x-python",
   "name": "python",
   "nbconvert_exporter": "python",
   "pygments_lexer": "ipython3",
   "version": "3.8.8"
  }
 },
 "nbformat": 4,
 "nbformat_minor": 5
}
