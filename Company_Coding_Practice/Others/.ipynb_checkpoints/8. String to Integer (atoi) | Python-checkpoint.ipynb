{
 "cells": [
  {
   "cell_type": "markdown",
   "id": "b3dfbfe0",
   "metadata": {},
   "source": [
    "Implement the myAtoi(string s) function, which converts a string to a 32-bit signed integer (similar to C/C++'s atoi function).\n",
    "<br>\n",
    "The algorithm for myAtoi(string s) is as follows:\n",
    "<br>\n",
    "Read in and ignore any leading whitespace.<br>\n",
    "Check if the next character (if not already at the end of the string) is '-' or '+'. Read this character in if it is either. This determines if the final result is negative or positive respectively. Assume the result is positive if neither is present.<br>\n",
    "Read in next the characters until the next non-digit character or the end of the input is reached. The rest of the string is ignored.<br>\n",
    "Convert these digits into an integer (i.e. \"123\" -> 123, \"0032\" -> 32). If no digits were read, then the integer is 0. Change the sign as necessary (from step 2).<br>\n",
    "If the integer is out of the 32-bit signed integer range [-231, 231 - 1], then clamp the integer so that it remains in the range. Specifically, integers less than -231 should be clamped to -231, and integers greater than 231 - 1 should be clamped to 231 - 1.<br>\n",
    "Return the integer as the final result.<br>\n",
    "Note:v\n",
    "<br>\n",
    "Only the space character ' ' is considered a whitespace character.<br>\n",
    "Do not ignore any characters other than the leading whitespace or the rest of the string after the digits.<br>"
   ]
  },
  {
   "cell_type": "code",
   "execution_count": 1,
   "id": "4ac3e53f",
   "metadata": {},
   "outputs": [],
   "source": [
    "s = \"4193 with words\""
   ]
  },
  {
   "cell_type": "code",
   "execution_count": 12,
   "id": "16314bb1",
   "metadata": {},
   "outputs": [],
   "source": [
    "#remove left white space --> lstrip\n",
    "#sign : 1, parsed = 0\n",
    "#first char ? - or +\n",
    "#char by char: isdigit() --> parsed\n",
    "#break\n",
    "#prased > given -->\n",
    "#parsed < given value -->\n",
    "#parsed\n",
    "def myAtoi(s):\n",
    "    s = s.lstrip()\n",
    "    i = 0\n",
    "    if len(s) <= 0:\n",
    "        return 0\n",
    "    \n",
    "    sign = 1\n",
    "    parsed = 0\n",
    "    \n",
    "    if s[i] == '-':\n",
    "        sign = -1\n",
    "        i+=1\n",
    "    elif s[i] == '+':\n",
    "        sign = 1\n",
    "        i += 1\n",
    "    \n",
    "    while i < len(s):\n",
    "        if s[i].isdigit():\n",
    "            parsed = parsed*10 + int(s[i])\n",
    "        else:\n",
    "            break\n",
    "        i += 1\n",
    "    \n",
    "    parsed *= sign\n",
    "    \n",
    "    if parsed > 2**31 -1:\n",
    "        return 2**31 -1\n",
    "    elif parsed < -2**31:\n",
    "        return -2**31\n",
    "    return parsed"
   ]
  },
  {
   "cell_type": "code",
   "execution_count": 13,
   "id": "48d5bf9f",
   "metadata": {},
   "outputs": [
    {
     "data": {
      "text/plain": [
       "4193"
      ]
     },
     "execution_count": 13,
     "metadata": {},
     "output_type": "execute_result"
    }
   ],
   "source": [
    "myAtoi(s)"
   ]
  },
  {
   "cell_type": "code",
   "execution_count": null,
   "id": "fb257dae",
   "metadata": {},
   "outputs": [],
   "source": []
  }
 ],
 "metadata": {
  "kernelspec": {
   "display_name": "Python 3",
   "language": "python",
   "name": "python3"
  },
  "language_info": {
   "codemirror_mode": {
    "name": "ipython",
    "version": 3
   },
   "file_extension": ".py",
   "mimetype": "text/x-python",
   "name": "python",
   "nbconvert_exporter": "python",
   "pygments_lexer": "ipython3",
   "version": "3.8.8"
  }
 },
 "nbformat": 4,
 "nbformat_minor": 5
}
