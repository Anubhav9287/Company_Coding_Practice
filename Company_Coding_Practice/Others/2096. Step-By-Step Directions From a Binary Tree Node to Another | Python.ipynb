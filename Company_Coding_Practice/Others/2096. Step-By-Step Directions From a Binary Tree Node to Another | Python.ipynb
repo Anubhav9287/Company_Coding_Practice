{
 "cells": [
  {
   "cell_type": "code",
   "execution_count": 1,
   "id": "959420ab",
   "metadata": {},
   "outputs": [],
   "source": [
    "class TreeNode:\n",
    "    def __init__(self, val=0, left=None, right=None):\n",
    "        self.val = val\n",
    "        self.left = left\n",
    "        self.right = right\n",
    "a = TreeNode(5)\n",
    "b = TreeNode(1)\n",
    "c = TreeNode(2)\n",
    "a.left = b\n",
    "a.right = c\n",
    "d = TreeNode(3)\n",
    "e = TreeNode(6)\n",
    "f = TreeNode(4)\n",
    "b.left = d\n",
    "c.left = e\n",
    "c.right = f"
   ]
  },
  {
   "cell_type": "code",
   "execution_count": 7,
   "id": "e1ba4584",
   "metadata": {},
   "outputs": [],
   "source": [
    "import collections\n",
    "def getDirections(root, startValue, destValue):\n",
    "    graph = collections.defaultdict(list)\n",
    "    queue = [root]\n",
    "    \n",
    "    while queue:\n",
    "        curr = queue.pop(0)\n",
    "        if curr.left:\n",
    "            graph[curr.val].append((curr.left.val,\"L\"))\n",
    "            graph[curr.left.val].append((curr.val,\"U\"))\n",
    "            queue.append(curr.left)\n",
    "        if curr.right:\n",
    "            graph[curr.val].append((curr.right.val,\"R\"))\n",
    "            graph[curr.right.val].append((curr.val,\"U\"))\n",
    "            queue.append(curr.right)\n",
    "    queue = [(startValue,\"\")]\n",
    "    visited = set()\n",
    "    while queue:\n",
    "        curr,path = queue.pop(0)\n",
    "        if curr == destValue:\n",
    "            return path\n",
    "        visited.add(curr)\n",
    "        for nodes in graph[curr]:\n",
    "            if nodes[0] not in visited:\n",
    "                queue.append((nodes[0],path+nodes[1]))\n",
    "    print(path)"
   ]
  },
  {
   "cell_type": "code",
   "execution_count": 8,
   "id": "ea6e3a09",
   "metadata": {},
   "outputs": [
    {
     "data": {
      "text/plain": [
       "'UURL'"
      ]
     },
     "execution_count": 8,
     "metadata": {},
     "output_type": "execute_result"
    }
   ],
   "source": [
    "getDirections(a, 3, 6)"
   ]
  },
  {
   "cell_type": "code",
   "execution_count": null,
   "id": "429b7fcb",
   "metadata": {},
   "outputs": [],
   "source": []
  }
 ],
 "metadata": {
  "kernelspec": {
   "display_name": "Python 3",
   "language": "python",
   "name": "python3"
  },
  "language_info": {
   "codemirror_mode": {
    "name": "ipython",
    "version": 3
   },
   "file_extension": ".py",
   "mimetype": "text/x-python",
   "name": "python",
   "nbconvert_exporter": "python",
   "pygments_lexer": "ipython3",
   "version": "3.8.8"
  }
 },
 "nbformat": 4,
 "nbformat_minor": 5
}
