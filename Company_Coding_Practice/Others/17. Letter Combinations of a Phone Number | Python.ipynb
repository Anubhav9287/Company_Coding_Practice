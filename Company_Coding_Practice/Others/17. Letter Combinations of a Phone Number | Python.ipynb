{
 "cells": [
  {
   "cell_type": "code",
   "execution_count": 17,
   "id": "83d849fa",
   "metadata": {},
   "outputs": [],
   "source": [
    "digits = \"29\""
   ]
  },
  {
   "cell_type": "code",
   "execution_count": 18,
   "id": "fde455c9",
   "metadata": {},
   "outputs": [],
   "source": [
    "def letterCombinations(digits):\n",
    "    digit_to_letter = {\n",
    "            '2':[\"a\",\"b\",\"c\"],\n",
    "            '3':[\"d\",\"e\",\"f\"],\n",
    "            '4':[\"g\",\"h\",\"i\"],\n",
    "            '5':[\"j\",\"k\",\"l\"],\n",
    "            '6':[\"m\",\"n\",\"o\"],\n",
    "            '7':[\"p\",\"q\",\"r\",\"s\"],\n",
    "            '8':[\"t\",\"u\",\"v\"],\n",
    "            '9':[\"w\",\"x\",\"y\",\"z\"],\n",
    "        }\n",
    "    def backtrack(digits, index, local_res):\n",
    "        if index >= len(digits):\n",
    "            res.append(''.join(local_res))\n",
    "            return\n",
    "        else:\n",
    "            for char in digit_to_letter[digits[index]]:\n",
    "                local_res.append(char)\n",
    "                backtrack(digits,index+1,local_res)\n",
    "                local_res.pop()\n",
    "    \n",
    "    if len(digits) < 1:\n",
    "        return []\n",
    "    if len(digits) == 1:\n",
    "        return digit_to_letter[digits]\n",
    "    \n",
    "    res = []\n",
    "    \n",
    "    backtrack(digits,0,[])\n",
    "    \n",
    "    return res"
   ]
  },
  {
   "cell_type": "code",
   "execution_count": 19,
   "id": "b6e8b242",
   "metadata": {},
   "outputs": [
    {
     "data": {
      "text/plain": [
       "['aw', 'ax', 'ay', 'az', 'bw', 'bx', 'by', 'bz', 'cw', 'cx', 'cy', 'cz']"
      ]
     },
     "execution_count": 19,
     "metadata": {},
     "output_type": "execute_result"
    }
   ],
   "source": [
    "letterCombinations(digits)"
   ]
  },
  {
   "cell_type": "code",
   "execution_count": null,
   "id": "1558837c",
   "metadata": {},
   "outputs": [],
   "source": []
  }
 ],
 "metadata": {
  "kernelspec": {
   "display_name": "Python 3",
   "language": "python",
   "name": "python3"
  },
  "language_info": {
   "codemirror_mode": {
    "name": "ipython",
    "version": 3
   },
   "file_extension": ".py",
   "mimetype": "text/x-python",
   "name": "python",
   "nbconvert_exporter": "python",
   "pygments_lexer": "ipython3",
   "version": "3.8.8"
  }
 },
 "nbformat": 4,
 "nbformat_minor": 5
}
