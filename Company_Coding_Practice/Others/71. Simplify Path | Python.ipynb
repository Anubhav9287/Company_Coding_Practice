{
 "cells": [
  {
   "cell_type": "code",
   "execution_count": 1,
   "id": "ada1cf86",
   "metadata": {},
   "outputs": [],
   "source": [
    "# path = \"/../\"\n",
    "path = \"/home//foo/\""
   ]
  },
  {
   "cell_type": "code",
   "execution_count": 4,
   "id": "900515ca",
   "metadata": {},
   "outputs": [],
   "source": [
    "def simplifyPath(path):\n",
    "    path_items = path.split('/')\n",
    "    stack = []\n",
    "    for item in path_items:\n",
    "        if item == '.' or item == \"\":\n",
    "            continue\n",
    "        elif item == '..':\n",
    "            if stack:\n",
    "                stack.pop()\n",
    "        else:\n",
    "            stack.append(item)\n",
    "    return '/'+'/'.join(stack)"
   ]
  },
  {
   "cell_type": "code",
   "execution_count": 5,
   "id": "098ae03f",
   "metadata": {},
   "outputs": [
    {
     "data": {
      "text/plain": [
       "'/home/foo'"
      ]
     },
     "execution_count": 5,
     "metadata": {},
     "output_type": "execute_result"
    }
   ],
   "source": [
    "simplifyPath(path)"
   ]
  },
  {
   "cell_type": "code",
   "execution_count": null,
   "id": "c1e758b3",
   "metadata": {},
   "outputs": [],
   "source": []
  }
 ],
 "metadata": {
  "kernelspec": {
   "display_name": "Python 3",
   "language": "python",
   "name": "python3"
  },
  "language_info": {
   "codemirror_mode": {
    "name": "ipython",
    "version": 3
   },
   "file_extension": ".py",
   "mimetype": "text/x-python",
   "name": "python",
   "nbconvert_exporter": "python",
   "pygments_lexer": "ipython3",
   "version": "3.8.8"
  }
 },
 "nbformat": 4,
 "nbformat_minor": 5
}
