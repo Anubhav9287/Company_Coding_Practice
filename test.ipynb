{
 "cells": [
  {
   "cell_type": "code",
   "execution_count": 7,
   "id": "b6de525a",
   "metadata": {},
   "outputs": [
    {
     "name": "stdout",
     "output_type": "stream",
     "text": [
      "['5.0', '100', '5.5', '101', '6.0', '102', 'L10', '5.0', '99', '5.5', '100', '6.0', '101', 'L20']\n",
      "prices ['100', '101', '102', '99', '100', '101']\n",
      "Matrix [['', '10', '20'], ['5.0', '', ''], ['5.5', '', ''], ['6.0', '', '']]\n",
      "matrix [['', '10', '20'], ['5.0', '100', '99'], ['5.5', '101', '100'], ['6.0', '102', '101']]\n",
      "['', '10', '20']\n",
      "['5.0', '100', '99']\n",
      "['5.5', '101', '100']\n",
      "['6.0', '102', '101']\n"
     ]
    }
   ],
   "source": [
    "import re\n",
    "StrRates = \"5.0, 100, 5.5, 101, 6.0, 102:L10, 5.0, 99, 5.5, 100, 6.0, 101:L20\"\n",
    "locks = \"\".join(re.findall(\"[L]\\d+\", StrRates)).split(\"L\")\n",
    "# print(locks)\n",
    "\n",
    "rates = sorted(set(re.findall(\"\\d+[.]\\d+\", StrRates)), key=float)\n",
    "# print(rates)\n",
    "str_trimmed = \",\".join(StrRates.replace(\":\", \",\").split(\", \")).split(\",\")\n",
    "print(str_trimmed)\n",
    "\n",
    "prices = []\n",
    "for x, price in enumerate(str_trimmed):\n",
    "    if price.isdigit():\n",
    "        prices.append(price)\n",
    "print(\"prices\",prices)\n",
    "\n",
    "matrix = [locks]\n",
    "\n",
    "for i in range(len(locks)):\n",
    "    row = [\"\" for _ in range(len(locks))]\n",
    "    row[0] = rates[i]\n",
    "    matrix.append(row)\n",
    "print(\"Matrix\",matrix)\n",
    "\n",
    "for i in range(1, len(matrix)):\n",
    "    idx = i - 1\n",
    "    for j in range(1, len(matrix[i])):\n",
    "        matrix[i][j] = prices[idx]\n",
    "        idx += len(rates)\n",
    "print(\"matrix\",matrix)\n",
    "for x in range(len(matrix)):\n",
    "    print(matrix[x])"
   ]
  },
  {
   "cell_type": "code",
   "execution_count": 35,
   "id": "e393cc19",
   "metadata": {},
   "outputs": [
    {
     "name": "stdout",
     "output_type": "stream",
     "text": [
      "['', '10', '20']\n",
      "['5.0', '100', '5.5', '101', '6.0', '102', 'L10', '5.0', '99', '5.5', '100', '6.0', '101', 'L20']\n",
      "prices ['100', '101', '102', '99', '100', '101']\n",
      "[['', '10', '20']]\n",
      "[['', '10', '20'], ['100', '101', '102'], ['99', '100', '101']]\n"
     ]
    }
   ],
   "source": [
    "import re\n",
    "StrRates = \"5.0, 100, 5.5, 101, 6.0, 102:L10, 5.0, 99, 5.5, 100, 6.0, 101:L20\"\n",
    "locks = \"\".join(re.findall(\"[L]\\d+\", StrRates)).split(\"L\")\n",
    "print(locks)\n",
    "# str_trimmed = \",\".join(StrRates.replace(\":\", \",\").split(\", \")).split(\",\")\n",
    "# print(str_trimmed)\n",
    "test = StrRates.replace(\":\",\",\").replace(\", \",\",\").split(\",\")\n",
    "print(test)\n",
    "prices = []\n",
    "for x, price in enumerate(test):\n",
    "    if price.isdigit():\n",
    "        prices.append(price)\n",
    "print(\"prices\",prices)\n",
    "matrix = []\n",
    "matrix.append(locks)\n",
    "print(matrix)\n",
    "for i in range(0,len(prices),3):\n",
    "    matrix.append(prices[i:i+3])\n",
    "print(matrix)"
   ]
  },
  {
   "cell_type": "code",
   "execution_count": null,
   "id": "9273095f",
   "metadata": {},
   "outputs": [],
   "source": []
  }
 ],
 "metadata": {
  "kernelspec": {
   "display_name": "Python 3",
   "language": "python",
   "name": "python3"
  },
  "language_info": {
   "codemirror_mode": {
    "name": "ipython",
    "version": 3
   },
   "file_extension": ".py",
   "mimetype": "text/x-python",
   "name": "python",
   "nbconvert_exporter": "python",
   "pygments_lexer": "ipython3",
   "version": "3.8.8"
  }
 },
 "nbformat": 4,
 "nbformat_minor": 5
}
